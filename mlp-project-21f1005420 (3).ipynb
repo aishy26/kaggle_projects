{
 "cells": [
  {
   "cell_type": "code",
   "execution_count": 1,
   "id": "b2f29338",
   "metadata": {
    "_cell_guid": "b1076dfc-b9ad-4769-8c92-a6c4dae69d19",
    "_uuid": "8f2839f25d086af736a60e9eeb907d3b93b6e0e5",
    "execution": {
     "iopub.execute_input": "2022-12-18T06:49:04.703703Z",
     "iopub.status.busy": "2022-12-18T06:49:04.703128Z",
     "iopub.status.idle": "2022-12-18T06:49:04.719324Z",
     "shell.execute_reply": "2022-12-18T06:49:04.717622Z"
    },
    "papermill": {
     "duration": 0.056862,
     "end_time": "2022-12-18T06:49:04.722112",
     "exception": false,
     "start_time": "2022-12-18T06:49:04.665250",
     "status": "completed"
    },
    "tags": []
   },
   "outputs": [
    {
     "name": "stdout",
     "output_type": "stream",
     "text": [
      "/kaggle/input/marketing-strategy-personalised-offer/sample.csv\n",
      "/kaggle/input/marketing-strategy-personalised-offer/train_data.csv\n",
      "/kaggle/input/marketing-strategy-personalised-offer/test_data.csv\n"
     ]
    }
   ],
   "source": [
    "# This Python 3 environment comes with many helpful analytics libraries installed\n",
    "# It is defined by the kaggle/python Docker image: https://github.com/kaggle/docker-python\n",
    "# For example, here's several helpful packages to load\n",
    "\n",
    "import numpy as np # linear algebra\n",
    "import pandas as pd # data processing, CSV file I/O (e.g. pd.read_csv)\n",
    "\n",
    "# Input data files are available in the read-only \"../input/\" directory\n",
    "# For example, running this (by clicking run or pressing Shift+Enter) will list all files under the input directory\n",
    "\n",
    "import os\n",
    "for dirname, _, filenames in os.walk('/kaggle/input'):\n",
    "    for filename in filenames:\n",
    "        print(os.path.join(dirname, filename))\n",
    "\n",
    "# You can write up to 20GB to the current directory (/kaggle/working/) that gets preserved as output when you create a version using \"Save & Run All\" \n",
    "# You can also write temporary files to /kaggle/temp/, but they won't be saved outside of the current session"
   ]
  },
  {
   "cell_type": "code",
   "execution_count": 2,
   "id": "d031c064",
   "metadata": {
    "execution": {
     "iopub.execute_input": "2022-12-18T06:49:04.788679Z",
     "iopub.status.busy": "2022-12-18T06:49:04.788192Z",
     "iopub.status.idle": "2022-12-18T06:49:06.477826Z",
     "shell.execute_reply": "2022-12-18T06:49:06.476498Z"
    },
    "papermill": {
     "duration": 1.725639,
     "end_time": "2022-12-18T06:49:06.481009",
     "exception": false,
     "start_time": "2022-12-18T06:49:04.755370",
     "status": "completed"
    },
    "tags": []
   },
   "outputs": [],
   "source": [
    "import pandas as pd\n",
    "import numpy as np\n",
    "import sklearn\n",
    "from sklearn.impute import SimpleImputer\n",
    "from sklearn.compose import ColumnTransformer\n",
    "from sklearn.pipeline import Pipeline\n",
    "from sklearn.preprocessing import MinMaxScaler, OneHotEncoder,OrdinalEncoder\n",
    "from sklearn.ensemble import GradientBoostingClassifier,RandomForestClassifier, VotingClassifier\n",
    "import xgboost as xgb\n",
    "from sklearn.decomposition import PCA\n",
    "import matplotlib.pyplot as plt\n",
    "import seaborn as sns\n",
    "from sklearn.model_selection import train_test_split, GridSearchCV\n",
    "from sklearn.dummy import DummyClassifier\n",
    "from sklearn.metrics import classification_report,confusion_matrix,roc_auc_score,accuracy_score, f1_score\n",
    "from sklearn.ensemble import AdaBoostClassifier, BaggingClassifier\n",
    "import xgboost as xgb\n",
    "from xgboost import XGBClassifier\n",
    "from sklearn.svm import SVC\n",
    "from sklearn.neighbors import KNeighborsClassifier\n",
    "from sklearn.linear_model import LogisticRegression, SGDClassifier\n",
    "from sklearn.neural_network import MLPClassifier\n",
    "from sklearn.tree import DecisionTreeClassifier"
   ]
  },
  {
   "cell_type": "code",
   "execution_count": 3,
   "id": "fc4f6675",
   "metadata": {
    "execution": {
     "iopub.execute_input": "2022-12-18T06:49:06.547845Z",
     "iopub.status.busy": "2022-12-18T06:49:06.547409Z",
     "iopub.status.idle": "2022-12-18T06:49:06.673254Z",
     "shell.execute_reply": "2022-12-18T06:49:06.672270Z"
    },
    "papermill": {
     "duration": 0.16262,
     "end_time": "2022-12-18T06:49:06.676073",
     "exception": false,
     "start_time": "2022-12-18T06:49:06.513453",
     "status": "completed"
    },
    "tags": []
   },
   "outputs": [],
   "source": [
    "train_data=pd.read_csv('/kaggle/input/marketing-strategy-personalised-offer/train_data.csv')"
   ]
  },
  {
   "cell_type": "code",
   "execution_count": 4,
   "id": "d211aba4",
   "metadata": {
    "execution": {
     "iopub.execute_input": "2022-12-18T06:49:06.744874Z",
     "iopub.status.busy": "2022-12-18T06:49:06.744013Z",
     "iopub.status.idle": "2022-12-18T06:49:06.752819Z",
     "shell.execute_reply": "2022-12-18T06:49:06.751968Z"
    },
    "papermill": {
     "duration": 0.044124,
     "end_time": "2022-12-18T06:49:06.754852",
     "exception": false,
     "start_time": "2022-12-18T06:49:06.710728",
     "status": "completed"
    },
    "tags": []
   },
   "outputs": [
    {
     "data": {
      "text/plain": [
       "(12379, 31)"
      ]
     },
     "execution_count": 4,
     "metadata": {},
     "output_type": "execute_result"
    }
   ],
   "source": [
    "train_data.shape"
   ]
  },
  {
   "cell_type": "code",
   "execution_count": 5,
   "id": "a9285100",
   "metadata": {
    "execution": {
     "iopub.execute_input": "2022-12-18T06:49:06.820264Z",
     "iopub.status.busy": "2022-12-18T06:49:06.819508Z",
     "iopub.status.idle": "2022-12-18T06:49:06.889616Z",
     "shell.execute_reply": "2022-12-18T06:49:06.888546Z"
    },
    "papermill": {
     "duration": 0.105484,
     "end_time": "2022-12-18T06:49:06.892106",
     "exception": false,
     "start_time": "2022-12-18T06:49:06.786622",
     "status": "completed"
    },
    "tags": []
   },
   "outputs": [
    {
     "data": {
      "text/html": [
       "<div>\n",
       "<style scoped>\n",
       "    .dataframe tbody tr th:only-of-type {\n",
       "        vertical-align: middle;\n",
       "    }\n",
       "\n",
       "    .dataframe tbody tr th {\n",
       "        vertical-align: top;\n",
       "    }\n",
       "\n",
       "    .dataframe thead th {\n",
       "        text-align: right;\n",
       "    }\n",
       "</style>\n",
       "<table border=\"1\" class=\"dataframe\">\n",
       "  <thead>\n",
       "    <tr style=\"text-align: right;\">\n",
       "      <th></th>\n",
       "      <th>travelled_more_than_15mins_for_offer</th>\n",
       "      <th>Prefer western over chinese</th>\n",
       "      <th>travelled_more_than_25mins_for_offer</th>\n",
       "      <th>travelled_more_than_5mins_for_offer</th>\n",
       "      <th>restuarant_same_direction_house</th>\n",
       "      <th>Cooks regularly</th>\n",
       "      <th>is foodie</th>\n",
       "      <th>restuarant_opposite_direction_house</th>\n",
       "      <th>has Children</th>\n",
       "      <th>visit restaurant with rating (avg)</th>\n",
       "      <th>temperature</th>\n",
       "      <th>Travel Time</th>\n",
       "      <th>Prefer home food</th>\n",
       "    </tr>\n",
       "  </thead>\n",
       "  <tbody>\n",
       "    <tr>\n",
       "      <th>count</th>\n",
       "      <td>12379.000000</td>\n",
       "      <td>12379.000000</td>\n",
       "      <td>12379.000000</td>\n",
       "      <td>12379.0</td>\n",
       "      <td>12379.000000</td>\n",
       "      <td>12379.000000</td>\n",
       "      <td>12379.000000</td>\n",
       "      <td>12379.000000</td>\n",
       "      <td>12379.000000</td>\n",
       "      <td>12379.000000</td>\n",
       "      <td>12379.000000</td>\n",
       "      <td>12379.000000</td>\n",
       "      <td>12379.000000</td>\n",
       "    </tr>\n",
       "    <tr>\n",
       "      <th>mean</th>\n",
       "      <td>0.565393</td>\n",
       "      <td>0.506665</td>\n",
       "      <td>0.119396</td>\n",
       "      <td>1.0</td>\n",
       "      <td>0.213426</td>\n",
       "      <td>0.499556</td>\n",
       "      <td>0.502706</td>\n",
       "      <td>0.787382</td>\n",
       "      <td>0.415623</td>\n",
       "      <td>1.987802</td>\n",
       "      <td>71.139187</td>\n",
       "      <td>13.947896</td>\n",
       "      <td>0.509815</td>\n",
       "    </tr>\n",
       "    <tr>\n",
       "      <th>std</th>\n",
       "      <td>0.495725</td>\n",
       "      <td>0.499976</td>\n",
       "      <td>0.324267</td>\n",
       "      <td>0.0</td>\n",
       "      <td>0.409742</td>\n",
       "      <td>0.500020</td>\n",
       "      <td>0.500013</td>\n",
       "      <td>0.409176</td>\n",
       "      <td>0.492849</td>\n",
       "      <td>1.421653</td>\n",
       "      <td>19.215969</td>\n",
       "      <td>5.395232</td>\n",
       "      <td>0.499924</td>\n",
       "    </tr>\n",
       "    <tr>\n",
       "      <th>min</th>\n",
       "      <td>0.000000</td>\n",
       "      <td>0.000000</td>\n",
       "      <td>0.000000</td>\n",
       "      <td>1.0</td>\n",
       "      <td>0.000000</td>\n",
       "      <td>0.000000</td>\n",
       "      <td>0.000000</td>\n",
       "      <td>0.000000</td>\n",
       "      <td>0.000000</td>\n",
       "      <td>0.000000</td>\n",
       "      <td>40.000000</td>\n",
       "      <td>7.000000</td>\n",
       "      <td>0.000000</td>\n",
       "    </tr>\n",
       "    <tr>\n",
       "      <th>25%</th>\n",
       "      <td>0.000000</td>\n",
       "      <td>0.000000</td>\n",
       "      <td>0.000000</td>\n",
       "      <td>1.0</td>\n",
       "      <td>0.000000</td>\n",
       "      <td>0.000000</td>\n",
       "      <td>0.000000</td>\n",
       "      <td>1.000000</td>\n",
       "      <td>0.000000</td>\n",
       "      <td>1.000000</td>\n",
       "      <td>67.000000</td>\n",
       "      <td>10.000000</td>\n",
       "      <td>0.000000</td>\n",
       "    </tr>\n",
       "    <tr>\n",
       "      <th>50%</th>\n",
       "      <td>1.000000</td>\n",
       "      <td>1.000000</td>\n",
       "      <td>0.000000</td>\n",
       "      <td>1.0</td>\n",
       "      <td>0.000000</td>\n",
       "      <td>0.000000</td>\n",
       "      <td>1.000000</td>\n",
       "      <td>1.000000</td>\n",
       "      <td>0.000000</td>\n",
       "      <td>2.000000</td>\n",
       "      <td>67.000000</td>\n",
       "      <td>14.000000</td>\n",
       "      <td>1.000000</td>\n",
       "    </tr>\n",
       "    <tr>\n",
       "      <th>75%</th>\n",
       "      <td>1.000000</td>\n",
       "      <td>1.000000</td>\n",
       "      <td>0.000000</td>\n",
       "      <td>1.0</td>\n",
       "      <td>0.000000</td>\n",
       "      <td>1.000000</td>\n",
       "      <td>1.000000</td>\n",
       "      <td>1.000000</td>\n",
       "      <td>1.000000</td>\n",
       "      <td>3.000000</td>\n",
       "      <td>89.000000</td>\n",
       "      <td>18.000000</td>\n",
       "      <td>1.000000</td>\n",
       "    </tr>\n",
       "    <tr>\n",
       "      <th>max</th>\n",
       "      <td>1.000000</td>\n",
       "      <td>1.000000</td>\n",
       "      <td>1.000000</td>\n",
       "      <td>1.0</td>\n",
       "      <td>1.000000</td>\n",
       "      <td>1.000000</td>\n",
       "      <td>1.000000</td>\n",
       "      <td>1.000000</td>\n",
       "      <td>1.000000</td>\n",
       "      <td>4.000000</td>\n",
       "      <td>89.000000</td>\n",
       "      <td>22.000000</td>\n",
       "      <td>1.000000</td>\n",
       "    </tr>\n",
       "  </tbody>\n",
       "</table>\n",
       "</div>"
      ],
      "text/plain": [
       "       travelled_more_than_15mins_for_offer  Prefer western over chinese  \\\n",
       "count                          12379.000000                 12379.000000   \n",
       "mean                               0.565393                     0.506665   \n",
       "std                                0.495725                     0.499976   \n",
       "min                                0.000000                     0.000000   \n",
       "25%                                0.000000                     0.000000   \n",
       "50%                                1.000000                     1.000000   \n",
       "75%                                1.000000                     1.000000   \n",
       "max                                1.000000                     1.000000   \n",
       "\n",
       "       travelled_more_than_25mins_for_offer  \\\n",
       "count                          12379.000000   \n",
       "mean                               0.119396   \n",
       "std                                0.324267   \n",
       "min                                0.000000   \n",
       "25%                                0.000000   \n",
       "50%                                0.000000   \n",
       "75%                                0.000000   \n",
       "max                                1.000000   \n",
       "\n",
       "       travelled_more_than_5mins_for_offer  restuarant_same_direction_house  \\\n",
       "count                              12379.0                     12379.000000   \n",
       "mean                                   1.0                         0.213426   \n",
       "std                                    0.0                         0.409742   \n",
       "min                                    1.0                         0.000000   \n",
       "25%                                    1.0                         0.000000   \n",
       "50%                                    1.0                         0.000000   \n",
       "75%                                    1.0                         0.000000   \n",
       "max                                    1.0                         1.000000   \n",
       "\n",
       "       Cooks regularly     is foodie  restuarant_opposite_direction_house  \\\n",
       "count     12379.000000  12379.000000                         12379.000000   \n",
       "mean          0.499556      0.502706                             0.787382   \n",
       "std           0.500020      0.500013                             0.409176   \n",
       "min           0.000000      0.000000                             0.000000   \n",
       "25%           0.000000      0.000000                             1.000000   \n",
       "50%           0.000000      1.000000                             1.000000   \n",
       "75%           1.000000      1.000000                             1.000000   \n",
       "max           1.000000      1.000000                             1.000000   \n",
       "\n",
       "       has Children  visit restaurant with rating (avg)   temperature  \\\n",
       "count  12379.000000                        12379.000000  12379.000000   \n",
       "mean       0.415623                            1.987802     71.139187   \n",
       "std        0.492849                            1.421653     19.215969   \n",
       "min        0.000000                            0.000000     40.000000   \n",
       "25%        0.000000                            1.000000     67.000000   \n",
       "50%        0.000000                            2.000000     67.000000   \n",
       "75%        1.000000                            3.000000     89.000000   \n",
       "max        1.000000                            4.000000     89.000000   \n",
       "\n",
       "        Travel Time  Prefer home food  \n",
       "count  12379.000000      12379.000000  \n",
       "mean      13.947896          0.509815  \n",
       "std        5.395232          0.499924  \n",
       "min        7.000000          0.000000  \n",
       "25%       10.000000          0.000000  \n",
       "50%       14.000000          1.000000  \n",
       "75%       18.000000          1.000000  \n",
       "max       22.000000          1.000000  "
      ]
     },
     "execution_count": 5,
     "metadata": {},
     "output_type": "execute_result"
    }
   ],
   "source": [
    "train_data.describe()"
   ]
  },
  {
   "cell_type": "code",
   "execution_count": 6,
   "id": "237a6e7f",
   "metadata": {
    "execution": {
     "iopub.execute_input": "2022-12-18T06:49:06.959440Z",
     "iopub.status.busy": "2022-12-18T06:49:06.959035Z",
     "iopub.status.idle": "2022-12-18T06:49:06.977067Z",
     "shell.execute_reply": "2022-12-18T06:49:06.976297Z"
    },
    "papermill": {
     "duration": 0.054735,
     "end_time": "2022-12-18T06:49:06.979251",
     "exception": false,
     "start_time": "2022-12-18T06:49:06.924516",
     "status": "completed"
    },
    "tags": []
   },
   "outputs": [
    {
     "data": {
      "text/plain": [
       "offer expiration                            0\n",
       "income_range                                0\n",
       "no_visited_Cold drinks                    198\n",
       "travelled_more_than_15mins_for_offer        0\n",
       "Restaur_spend_less_than20                 121\n",
       "Marital Status                              0\n",
       "restaurant type                             0\n",
       "age                                         0\n",
       "Prefer western over chinese                 0\n",
       "travelled_more_than_25mins_for_offer        0\n",
       "travelled_more_than_5mins_for_offer         0\n",
       "no_visited_bars                            93\n",
       "gender                                      0\n",
       "car                                     12268\n",
       "restuarant_same_direction_house             0\n",
       "Cooks regularly                             0\n",
       "Customer type                               0\n",
       "Qualification                               0\n",
       "is foodie                                   0\n",
       "no_Take-aways                             144\n",
       "Job/Job Industry                            0\n",
       "restuarant_opposite_direction_house         0\n",
       "has Children                                0\n",
       "visit restaurant with rating (avg)          0\n",
       "temperature                                 0\n",
       "Restaur_spend_greater_than20              160\n",
       "Travel Time                                 0\n",
       "Climate                                     0\n",
       "drop location                               0\n",
       "Prefer home food                            0\n",
       "Offer Accepted                              0\n",
       "dtype: int64"
      ]
     },
     "execution_count": 6,
     "metadata": {},
     "output_type": "execute_result"
    }
   ],
   "source": [
    "train_data.isnull().sum()"
   ]
  },
  {
   "cell_type": "code",
   "execution_count": 7,
   "id": "414fe6cd",
   "metadata": {
    "execution": {
     "iopub.execute_input": "2022-12-18T06:49:07.047093Z",
     "iopub.status.busy": "2022-12-18T06:49:07.046414Z",
     "iopub.status.idle": "2022-12-18T06:49:07.054810Z",
     "shell.execute_reply": "2022-12-18T06:49:07.053755Z"
    },
    "papermill": {
     "duration": 0.044593,
     "end_time": "2022-12-18T06:49:07.057250",
     "exception": false,
     "start_time": "2022-12-18T06:49:07.012657",
     "status": "completed"
    },
    "tags": []
   },
   "outputs": [],
   "source": [
    "train_data.drop('car',axis=1, inplace=True)"
   ]
  },
  {
   "cell_type": "code",
   "execution_count": 8,
   "id": "d1048ed8",
   "metadata": {
    "execution": {
     "iopub.execute_input": "2022-12-18T06:49:07.123929Z",
     "iopub.status.busy": "2022-12-18T06:49:07.123551Z",
     "iopub.status.idle": "2022-12-18T06:49:07.138156Z",
     "shell.execute_reply": "2022-12-18T06:49:07.136826Z"
    },
    "papermill": {
     "duration": 0.0507,
     "end_time": "2022-12-18T06:49:07.140456",
     "exception": false,
     "start_time": "2022-12-18T06:49:07.089756",
     "status": "completed"
    },
    "tags": []
   },
   "outputs": [],
   "source": [
    "train_data['offer expiration']=train_data['offer expiration'].str.replace('2days','48hours')"
   ]
  },
  {
   "cell_type": "code",
   "execution_count": 9,
   "id": "7db0b240",
   "metadata": {
    "execution": {
     "iopub.execute_input": "2022-12-18T06:49:07.207450Z",
     "iopub.status.busy": "2022-12-18T06:49:07.206754Z",
     "iopub.status.idle": "2022-12-18T06:49:07.221734Z",
     "shell.execute_reply": "2022-12-18T06:49:07.220840Z"
    },
    "papermill": {
     "duration": 0.051784,
     "end_time": "2022-12-18T06:49:07.224174",
     "exception": false,
     "start_time": "2022-12-18T06:49:07.172390",
     "status": "completed"
    },
    "tags": []
   },
   "outputs": [],
   "source": [
    "train_data['offer expiration']=train_data['offer expiration'].str.replace('hours','')"
   ]
  },
  {
   "cell_type": "code",
   "execution_count": 10,
   "id": "e93e5dd3",
   "metadata": {
    "execution": {
     "iopub.execute_input": "2022-12-18T06:49:07.291145Z",
     "iopub.status.busy": "2022-12-18T06:49:07.290408Z",
     "iopub.status.idle": "2022-12-18T06:49:07.308651Z",
     "shell.execute_reply": "2022-12-18T06:49:07.307391Z"
    },
    "papermill": {
     "duration": 0.054785,
     "end_time": "2022-12-18T06:49:07.311357",
     "exception": false,
     "start_time": "2022-12-18T06:49:07.256572",
     "status": "completed"
    },
    "tags": []
   },
   "outputs": [],
   "source": [
    "train_data=train_data.replace(np.nan,'')"
   ]
  },
  {
   "cell_type": "code",
   "execution_count": 11,
   "id": "486b551f",
   "metadata": {
    "execution": {
     "iopub.execute_input": "2022-12-18T06:49:07.377038Z",
     "iopub.status.busy": "2022-12-18T06:49:07.376642Z",
     "iopub.status.idle": "2022-12-18T06:49:07.381617Z",
     "shell.execute_reply": "2022-12-18T06:49:07.380483Z"
    },
    "papermill": {
     "duration": 0.040452,
     "end_time": "2022-12-18T06:49:07.383874",
     "exception": false,
     "start_time": "2022-12-18T06:49:07.343422",
     "status": "completed"
    },
    "tags": []
   },
   "outputs": [],
   "source": [
    "s= SimpleImputer(missing_values='', strategy= 'most_frequent')"
   ]
  },
  {
   "cell_type": "code",
   "execution_count": 12,
   "id": "4154563b",
   "metadata": {
    "execution": {
     "iopub.execute_input": "2022-12-18T06:49:07.451182Z",
     "iopub.status.busy": "2022-12-18T06:49:07.450786Z",
     "iopub.status.idle": "2022-12-18T06:49:07.460709Z",
     "shell.execute_reply": "2022-12-18T06:49:07.459513Z"
    },
    "papermill": {
     "duration": 0.046793,
     "end_time": "2022-12-18T06:49:07.463049",
     "exception": false,
     "start_time": "2022-12-18T06:49:07.416256",
     "status": "completed"
    },
    "tags": []
   },
   "outputs": [],
   "source": [
    "train_data['no_visited_Cold drinks']=s.fit_transform(train_data['no_visited_Cold drinks'].values.reshape(-1,1))"
   ]
  },
  {
   "cell_type": "code",
   "execution_count": 13,
   "id": "75b2c0ce",
   "metadata": {
    "execution": {
     "iopub.execute_input": "2022-12-18T06:49:07.531282Z",
     "iopub.status.busy": "2022-12-18T06:49:07.530859Z",
     "iopub.status.idle": "2022-12-18T06:49:07.539228Z",
     "shell.execute_reply": "2022-12-18T06:49:07.538313Z"
    },
    "papermill": {
     "duration": 0.044569,
     "end_time": "2022-12-18T06:49:07.541516",
     "exception": false,
     "start_time": "2022-12-18T06:49:07.496947",
     "status": "completed"
    },
    "tags": []
   },
   "outputs": [],
   "source": [
    "train_data['Restaur_spend_less_than20']=s.fit_transform(train_data['Restaur_spend_less_than20'].values.reshape(-1,1))"
   ]
  },
  {
   "cell_type": "code",
   "execution_count": 14,
   "id": "d249aa46",
   "metadata": {
    "execution": {
     "iopub.execute_input": "2022-12-18T06:49:07.609631Z",
     "iopub.status.busy": "2022-12-18T06:49:07.608486Z",
     "iopub.status.idle": "2022-12-18T06:49:07.616604Z",
     "shell.execute_reply": "2022-12-18T06:49:07.615735Z"
    },
    "papermill": {
     "duration": 0.04498,
     "end_time": "2022-12-18T06:49:07.618952",
     "exception": false,
     "start_time": "2022-12-18T06:49:07.573972",
     "status": "completed"
    },
    "tags": []
   },
   "outputs": [],
   "source": [
    "train_data['no_visited_bars']=s.fit_transform(train_data['no_visited_bars'].values.reshape(-1,1))"
   ]
  },
  {
   "cell_type": "code",
   "execution_count": 15,
   "id": "93eb031c",
   "metadata": {
    "execution": {
     "iopub.execute_input": "2022-12-18T06:49:07.685780Z",
     "iopub.status.busy": "2022-12-18T06:49:07.685044Z",
     "iopub.status.idle": "2022-12-18T06:49:07.692794Z",
     "shell.execute_reply": "2022-12-18T06:49:07.692013Z"
    },
    "papermill": {
     "duration": 0.043338,
     "end_time": "2022-12-18T06:49:07.695070",
     "exception": false,
     "start_time": "2022-12-18T06:49:07.651732",
     "status": "completed"
    },
    "tags": []
   },
   "outputs": [],
   "source": [
    "train_data['no_Take-aways']=s.fit_transform(train_data['no_Take-aways'].values.reshape(-1,1))"
   ]
  },
  {
   "cell_type": "code",
   "execution_count": 16,
   "id": "f8506a3e",
   "metadata": {
    "execution": {
     "iopub.execute_input": "2022-12-18T06:49:07.765282Z",
     "iopub.status.busy": "2022-12-18T06:49:07.764572Z",
     "iopub.status.idle": "2022-12-18T06:49:07.772018Z",
     "shell.execute_reply": "2022-12-18T06:49:07.771285Z"
    },
    "papermill": {
     "duration": 0.044514,
     "end_time": "2022-12-18T06:49:07.774284",
     "exception": false,
     "start_time": "2022-12-18T06:49:07.729770",
     "status": "completed"
    },
    "tags": []
   },
   "outputs": [],
   "source": [
    "train_data['Restaur_spend_greater_than20']=s.fit_transform(train_data['Restaur_spend_greater_than20'].values.reshape(-1,1))"
   ]
  },
  {
   "cell_type": "code",
   "execution_count": 17,
   "id": "24389e58",
   "metadata": {
    "execution": {
     "iopub.execute_input": "2022-12-18T06:49:07.842410Z",
     "iopub.status.busy": "2022-12-18T06:49:07.841976Z",
     "iopub.status.idle": "2022-12-18T06:49:07.848423Z",
     "shell.execute_reply": "2022-12-18T06:49:07.847517Z"
    },
    "papermill": {
     "duration": 0.042698,
     "end_time": "2022-12-18T06:49:07.850308",
     "exception": false,
     "start_time": "2022-12-18T06:49:07.807610",
     "status": "completed"
    },
    "tags": []
   },
   "outputs": [],
   "source": [
    "train_data['offer expiration']=train_data['offer expiration'].astype(int)"
   ]
  },
  {
   "cell_type": "code",
   "execution_count": 18,
   "id": "7cb384e6",
   "metadata": {
    "execution": {
     "iopub.execute_input": "2022-12-18T06:49:07.920015Z",
     "iopub.status.busy": "2022-12-18T06:49:07.919327Z",
     "iopub.status.idle": "2022-12-18T06:49:07.932577Z",
     "shell.execute_reply": "2022-12-18T06:49:07.931504Z"
    },
    "papermill": {
     "duration": 0.051903,
     "end_time": "2022-12-18T06:49:07.935264",
     "exception": false,
     "start_time": "2022-12-18T06:49:07.883361",
     "status": "completed"
    },
    "tags": []
   },
   "outputs": [],
   "source": [
    "train_data['age']=train_data['age'].str.replace('below21','20')"
   ]
  },
  {
   "cell_type": "code",
   "execution_count": 19,
   "id": "b37a2567",
   "metadata": {
    "execution": {
     "iopub.execute_input": "2022-12-18T06:49:08.003285Z",
     "iopub.status.busy": "2022-12-18T06:49:08.002325Z",
     "iopub.status.idle": "2022-12-18T06:49:08.015712Z",
     "shell.execute_reply": "2022-12-18T06:49:08.014665Z"
    },
    "papermill": {
     "duration": 0.050481,
     "end_time": "2022-12-18T06:49:08.018730",
     "exception": false,
     "start_time": "2022-12-18T06:49:07.968249",
     "status": "completed"
    },
    "tags": []
   },
   "outputs": [],
   "source": [
    "train_data['age']= train_data['age'].str.replace('50plus','51')"
   ]
  },
  {
   "cell_type": "code",
   "execution_count": 20,
   "id": "9d81f6c9",
   "metadata": {
    "execution": {
     "iopub.execute_input": "2022-12-18T06:49:08.086775Z",
     "iopub.status.busy": "2022-12-18T06:49:08.086360Z",
     "iopub.status.idle": "2022-12-18T06:49:08.093330Z",
     "shell.execute_reply": "2022-12-18T06:49:08.092280Z"
    },
    "papermill": {
     "duration": 0.043888,
     "end_time": "2022-12-18T06:49:08.096151",
     "exception": false,
     "start_time": "2022-12-18T06:49:08.052263",
     "status": "completed"
    },
    "tags": []
   },
   "outputs": [],
   "source": [
    "train_data['age']=train_data['age'].astype(int)"
   ]
  },
  {
   "cell_type": "code",
   "execution_count": 21,
   "id": "9018ff69",
   "metadata": {
    "execution": {
     "iopub.execute_input": "2022-12-18T06:49:08.163841Z",
     "iopub.status.busy": "2022-12-18T06:49:08.162751Z",
     "iopub.status.idle": "2022-12-18T06:49:08.178545Z",
     "shell.execute_reply": "2022-12-18T06:49:08.177263Z"
    },
    "papermill": {
     "duration": 0.052662,
     "end_time": "2022-12-18T06:49:08.181390",
     "exception": false,
     "start_time": "2022-12-18T06:49:08.128728",
     "status": "completed"
    },
    "tags": []
   },
   "outputs": [],
   "source": [
    "train_data['age']=pd.cut(train_data['age'],bins=[0,20,30,40,50,float('Inf')],labels=['below 21','21-30','31-40','41-50','50plus'])"
   ]
  },
  {
   "cell_type": "code",
   "execution_count": 22,
   "id": "6e81d9e4",
   "metadata": {
    "execution": {
     "iopub.execute_input": "2022-12-18T06:49:08.249791Z",
     "iopub.status.busy": "2022-12-18T06:49:08.249311Z",
     "iopub.status.idle": "2022-12-18T06:49:08.261624Z",
     "shell.execute_reply": "2022-12-18T06:49:08.260302Z"
    },
    "papermill": {
     "duration": 0.049064,
     "end_time": "2022-12-18T06:49:08.263771",
     "exception": false,
     "start_time": "2022-12-18T06:49:08.214707",
     "status": "completed"
    },
    "tags": []
   },
   "outputs": [
    {
     "data": {
      "text/plain": [
       "0           31-40\n",
       "1          50plus\n",
       "2           21-30\n",
       "3           41-50\n",
       "4           21-30\n",
       "           ...   \n",
       "12374      50plus\n",
       "12375       21-30\n",
       "12376       31-40\n",
       "12377       21-30\n",
       "12378    below 21\n",
       "Name: age, Length: 12379, dtype: category\n",
       "Categories (5, object): ['below 21' < '21-30' < '31-40' < '41-50' < '50plus']"
      ]
     },
     "execution_count": 22,
     "metadata": {},
     "output_type": "execute_result"
    }
   ],
   "source": [
    "train_data['age']"
   ]
  },
  {
   "cell_type": "code",
   "execution_count": 23,
   "id": "5f10fe3f",
   "metadata": {
    "execution": {
     "iopub.execute_input": "2022-12-18T06:49:08.331790Z",
     "iopub.status.busy": "2022-12-18T06:49:08.330322Z",
     "iopub.status.idle": "2022-12-18T06:49:10.554008Z",
     "shell.execute_reply": "2022-12-18T06:49:10.552886Z"
    },
    "papermill": {
     "duration": 2.260579,
     "end_time": "2022-12-18T06:49:10.557201",
     "exception": false,
     "start_time": "2022-12-18T06:49:08.296622",
     "status": "completed"
    },
    "tags": []
   },
   "outputs": [
    {
     "data": {
      "text/plain": [
       "array([[<AxesSubplot:title={'center':'offer expiration'}>,\n",
       "        <AxesSubplot:title={'center':'travelled_more_than_15mins_for_offer'}>,\n",
       "        <AxesSubplot:title={'center':'Prefer western over chinese'}>,\n",
       "        <AxesSubplot:title={'center':'travelled_more_than_25mins_for_offer'}>],\n",
       "       [<AxesSubplot:title={'center':'travelled_more_than_5mins_for_offer'}>,\n",
       "        <AxesSubplot:title={'center':'restuarant_same_direction_house'}>,\n",
       "        <AxesSubplot:title={'center':'Cooks regularly'}>,\n",
       "        <AxesSubplot:title={'center':'is foodie'}>],\n",
       "       [<AxesSubplot:title={'center':'restuarant_opposite_direction_house'}>,\n",
       "        <AxesSubplot:title={'center':'has Children'}>,\n",
       "        <AxesSubplot:title={'center':'visit restaurant with rating (avg)'}>,\n",
       "        <AxesSubplot:title={'center':'temperature'}>],\n",
       "       [<AxesSubplot:title={'center':'Travel Time'}>,\n",
       "        <AxesSubplot:title={'center':'Prefer home food'}>,\n",
       "        <AxesSubplot:>, <AxesSubplot:>]], dtype=object)"
      ]
     },
     "execution_count": 23,
     "metadata": {},
     "output_type": "execute_result"
    },
    {
     "data": {
      "image/png": "[encoded data removed]",
      "text/plain": [
       "<Figure size 1440x720 with 16 Axes>"
      ]
     },
     "metadata": {
      "needs_background": "light"
     },
     "output_type": "display_data"
    }
   ],
   "source": [
    "train_data.hist(figsize=(20,10))"
   ]
  },
  {
   "cell_type": "code",
   "execution_count": 24,
   "id": "7b3024c0",
   "metadata": {
    "execution": {
     "iopub.execute_input": "2022-12-18T06:49:10.629066Z",
     "iopub.status.busy": "2022-12-18T06:49:10.627640Z",
     "iopub.status.idle": "2022-12-18T06:49:11.762889Z",
     "shell.execute_reply": "2022-12-18T06:49:11.762003Z"
    },
    "papermill": {
     "duration": 1.173493,
     "end_time": "2022-12-18T06:49:11.766074",
     "exception": false,
     "start_time": "2022-12-18T06:49:10.592581",
     "status": "completed"
    },
    "tags": []
   },
   "outputs": [
    {
     "data": {
      "image/png": "[encoded data removed]",
      "text/plain": [
       "<Figure size 1440x720 with 2 Axes>"
      ]
     },
     "metadata": {
      "needs_background": "light"
     },
     "output_type": "display_data"
    }
   ],
   "source": [
    "corr_matrix = train_data.corr()\n",
    "plt.figure(figsize=(20,10))\n",
    "sns.heatmap(corr_matrix, annot=True)\n",
    "plt.show()"
   ]
  },
  {
   "cell_type": "code",
   "execution_count": 25,
   "id": "182b4083",
   "metadata": {
    "execution": {
     "iopub.execute_input": "2022-12-18T06:49:11.841279Z",
     "iopub.status.busy": "2022-12-18T06:49:11.840140Z",
     "iopub.status.idle": "2022-12-18T06:49:11.844783Z",
     "shell.execute_reply": "2022-12-18T06:49:11.844061Z"
    },
    "papermill": {
     "duration": 0.045414,
     "end_time": "2022-12-18T06:49:11.846875",
     "exception": false,
     "start_time": "2022-12-18T06:49:11.801461",
     "status": "completed"
    },
    "tags": []
   },
   "outputs": [],
   "source": [
    "num_features= ['offer expiration','temperature','Travel Time']"
   ]
  },
  {
   "cell_type": "code",
   "execution_count": 26,
   "id": "18a50ec9",
   "metadata": {
    "execution": {
     "iopub.execute_input": "2022-12-18T06:49:11.920828Z",
     "iopub.status.busy": "2022-12-18T06:49:11.920114Z",
     "iopub.status.idle": "2022-12-18T06:49:11.924126Z",
     "shell.execute_reply": "2022-12-18T06:49:11.923395Z"
    },
    "papermill": {
     "duration": 0.044175,
     "end_time": "2022-12-18T06:49:11.926960",
     "exception": false,
     "start_time": "2022-12-18T06:49:11.882785",
     "status": "completed"
    },
    "tags": []
   },
   "outputs": [],
   "source": [
    "num_transformer= MinMaxScaler()"
   ]
  },
  {
   "cell_type": "code",
   "execution_count": 27,
   "id": "161c900b",
   "metadata": {
    "execution": {
     "iopub.execute_input": "2022-12-18T06:49:12.001979Z",
     "iopub.status.busy": "2022-12-18T06:49:12.001588Z",
     "iopub.status.idle": "2022-12-18T06:49:12.007545Z",
     "shell.execute_reply": "2022-12-18T06:49:12.005977Z"
    },
    "papermill": {
     "duration": 0.045938,
     "end_time": "2022-12-18T06:49:12.010256",
     "exception": false,
     "start_time": "2022-12-18T06:49:11.964318",
     "status": "completed"
    },
    "tags": []
   },
   "outputs": [],
   "source": [
    "categorical_features_1=['income_range','restaurant type','Qualification']"
   ]
  },
  {
   "cell_type": "code",
   "execution_count": 28,
   "id": "c1573167",
   "metadata": {
    "execution": {
     "iopub.execute_input": "2022-12-18T06:49:12.082229Z",
     "iopub.status.busy": "2022-12-18T06:49:12.081827Z",
     "iopub.status.idle": "2022-12-18T06:49:12.086494Z",
     "shell.execute_reply": "2022-12-18T06:49:12.085523Z"
    },
    "papermill": {
     "duration": 0.043525,
     "end_time": "2022-12-18T06:49:12.088963",
     "exception": false,
     "start_time": "2022-12-18T06:49:12.045438",
     "status": "completed"
    },
    "tags": []
   },
   "outputs": [],
   "source": [
    "ordinal=OrdinalEncoder()"
   ]
  },
  {
   "cell_type": "code",
   "execution_count": 29,
   "id": "6ca5f8be",
   "metadata": {
    "execution": {
     "iopub.execute_input": "2022-12-18T06:49:12.162478Z",
     "iopub.status.busy": "2022-12-18T06:49:12.161688Z",
     "iopub.status.idle": "2022-12-18T06:49:12.166991Z",
     "shell.execute_reply": "2022-12-18T06:49:12.165758Z"
    },
    "papermill": {
     "duration": 0.045585,
     "end_time": "2022-12-18T06:49:12.169934",
     "exception": false,
     "start_time": "2022-12-18T06:49:12.124349",
     "status": "completed"
    },
    "tags": []
   },
   "outputs": [],
   "source": [
    "categorical_features_2=['no_visited_Cold drinks','Restaur_spend_less_than20','Marital Status','age','no_visited_bars','gender','Customer type','no_Take-aways','Job/Job Industry','Restaur_spend_greater_than20','Climate','drop location']"
   ]
  },
  {
   "cell_type": "code",
   "execution_count": 30,
   "id": "6f4f76f0",
   "metadata": {
    "execution": {
     "iopub.execute_input": "2022-12-18T06:49:12.243797Z",
     "iopub.status.busy": "2022-12-18T06:49:12.243332Z",
     "iopub.status.idle": "2022-12-18T06:49:12.248394Z",
     "shell.execute_reply": "2022-12-18T06:49:12.247559Z"
    },
    "papermill": {
     "duration": 0.044925,
     "end_time": "2022-12-18T06:49:12.250508",
     "exception": false,
     "start_time": "2022-12-18T06:49:12.205583",
     "status": "completed"
    },
    "tags": []
   },
   "outputs": [],
   "source": [
    "one_hot= OneHotEncoder()"
   ]
  },
  {
   "cell_type": "code",
   "execution_count": 31,
   "id": "b94f2fb9",
   "metadata": {
    "execution": {
     "iopub.execute_input": "2022-12-18T06:49:12.322851Z",
     "iopub.status.busy": "2022-12-18T06:49:12.322365Z",
     "iopub.status.idle": "2022-12-18T06:49:12.328741Z",
     "shell.execute_reply": "2022-12-18T06:49:12.327470Z"
    },
    "papermill": {
     "duration": 0.045257,
     "end_time": "2022-12-18T06:49:12.331074",
     "exception": false,
     "start_time": "2022-12-18T06:49:12.285817",
     "status": "completed"
    },
    "tags": []
   },
   "outputs": [],
   "source": [
    "ct= ColumnTransformer(transformers=[\n",
    "        (\"num\", num_transformer, num_features),\n",
    "        (\"cat1\", ordinal, categorical_features_1),(\"cat2\",one_hot,categorical_features_2)],remainder='passthrough',sparse_threshold=0)"
   ]
  },
  {
   "cell_type": "code",
   "execution_count": 32,
   "id": "07d6d102",
   "metadata": {
    "execution": {
     "iopub.execute_input": "2022-12-18T06:49:12.406884Z",
     "iopub.status.busy": "2022-12-18T06:49:12.406053Z",
     "iopub.status.idle": "2022-12-18T06:49:12.412829Z",
     "shell.execute_reply": "2022-12-18T06:49:12.411537Z"
    },
    "papermill": {
     "duration": 0.0478,
     "end_time": "2022-12-18T06:49:12.415336",
     "exception": false,
     "start_time": "2022-12-18T06:49:12.367536",
     "status": "completed"
    },
    "tags": []
   },
   "outputs": [],
   "source": [
    "y_train= train_data['Offer Accepted']"
   ]
  },
  {
   "cell_type": "code",
   "execution_count": 33,
   "id": "f488f21d",
   "metadata": {
    "execution": {
     "iopub.execute_input": "2022-12-18T06:49:12.490403Z",
     "iopub.status.busy": "2022-12-18T06:49:12.489681Z",
     "iopub.status.idle": "2022-12-18T06:49:12.497137Z",
     "shell.execute_reply": "2022-12-18T06:49:12.496319Z"
    },
    "papermill": {
     "duration": 0.047959,
     "end_time": "2022-12-18T06:49:12.499311",
     "exception": false,
     "start_time": "2022-12-18T06:49:12.451352",
     "status": "completed"
    },
    "tags": []
   },
   "outputs": [],
   "source": [
    "X_train=train_data.drop('Offer Accepted',axis=1)"
   ]
  },
  {
   "cell_type": "code",
   "execution_count": 34,
   "id": "34d1eeae",
   "metadata": {
    "execution": {
     "iopub.execute_input": "2022-12-18T06:49:12.573533Z",
     "iopub.status.busy": "2022-12-18T06:49:12.572825Z",
     "iopub.status.idle": "2022-12-18T06:49:12.667747Z",
     "shell.execute_reply": "2022-12-18T06:49:12.666557Z"
    },
    "papermill": {
     "duration": 0.135445,
     "end_time": "2022-12-18T06:49:12.670750",
     "exception": false,
     "start_time": "2022-12-18T06:49:12.535305",
     "status": "completed"
    },
    "tags": []
   },
   "outputs": [],
   "source": [
    "X_train=ct.fit_transform(X_train)"
   ]
  },
  {
   "cell_type": "code",
   "execution_count": 35,
   "id": "fc123eb6",
   "metadata": {
    "execution": {
     "iopub.execute_input": "2022-12-18T06:49:12.744704Z",
     "iopub.status.busy": "2022-12-18T06:49:12.744304Z",
     "iopub.status.idle": "2022-12-18T06:49:12.750849Z",
     "shell.execute_reply": "2022-12-18T06:49:12.749739Z"
    },
    "papermill": {
     "duration": 0.04628,
     "end_time": "2022-12-18T06:49:12.753344",
     "exception": false,
     "start_time": "2022-12-18T06:49:12.707064",
     "status": "completed"
    },
    "tags": []
   },
   "outputs": [
    {
     "data": {
      "text/plain": [
       "(12379, 89)"
      ]
     },
     "execution_count": 35,
     "metadata": {},
     "output_type": "execute_result"
    }
   ],
   "source": [
    "X_train.shape"
   ]
  },
  {
   "cell_type": "code",
   "execution_count": 36,
   "id": "2e32660e",
   "metadata": {
    "execution": {
     "iopub.execute_input": "2022-12-18T06:49:12.827355Z",
     "iopub.status.busy": "2022-12-18T06:49:12.826935Z",
     "iopub.status.idle": "2022-12-18T06:49:12.871701Z",
     "shell.execute_reply": "2022-12-18T06:49:12.870788Z"
    },
    "papermill": {
     "duration": 0.084544,
     "end_time": "2022-12-18T06:49:12.874176",
     "exception": false,
     "start_time": "2022-12-18T06:49:12.789632",
     "status": "completed"
    },
    "tags": []
   },
   "outputs": [],
   "source": [
    "test_data=pd.read_csv('/kaggle/input/marketing-strategy-personalised-offer/test_data.csv')"
   ]
  },
  {
   "cell_type": "code",
   "execution_count": 37,
   "id": "bb83bfb7",
   "metadata": {
    "execution": {
     "iopub.execute_input": "2022-12-18T06:49:12.949132Z",
     "iopub.status.busy": "2022-12-18T06:49:12.948419Z",
     "iopub.status.idle": "2022-12-18T06:49:12.954981Z",
     "shell.execute_reply": "2022-12-18T06:49:12.953907Z"
    },
    "papermill": {
     "duration": 0.045611,
     "end_time": "2022-12-18T06:49:12.957441",
     "exception": false,
     "start_time": "2022-12-18T06:49:12.911830",
     "status": "completed"
    },
    "tags": []
   },
   "outputs": [
    {
     "data": {
      "text/plain": [
       "(5305, 30)"
      ]
     },
     "execution_count": 37,
     "metadata": {},
     "output_type": "execute_result"
    }
   ],
   "source": [
    "test_data.shape"
   ]
  },
  {
   "cell_type": "code",
   "execution_count": 38,
   "id": "c8da05c1",
   "metadata": {
    "execution": {
     "iopub.execute_input": "2022-12-18T06:49:13.031909Z",
     "iopub.status.busy": "2022-12-18T06:49:13.031229Z",
     "iopub.status.idle": "2022-12-18T06:49:13.038161Z",
     "shell.execute_reply": "2022-12-18T06:49:13.037397Z"
    },
    "papermill": {
     "duration": 0.046827,
     "end_time": "2022-12-18T06:49:13.040373",
     "exception": false,
     "start_time": "2022-12-18T06:49:12.993546",
     "status": "completed"
    },
    "tags": []
   },
   "outputs": [],
   "source": [
    "test_data.drop('car',axis=1, inplace=True)"
   ]
  },
  {
   "cell_type": "code",
   "execution_count": 39,
   "id": "3c07f52a",
   "metadata": {
    "execution": {
     "iopub.execute_input": "2022-12-18T06:49:13.116830Z",
     "iopub.status.busy": "2022-12-18T06:49:13.114843Z",
     "iopub.status.idle": "2022-12-18T06:49:13.125994Z",
     "shell.execute_reply": "2022-12-18T06:49:13.125178Z"
    },
    "papermill": {
     "duration": 0.052819,
     "end_time": "2022-12-18T06:49:13.128513",
     "exception": false,
     "start_time": "2022-12-18T06:49:13.075694",
     "status": "completed"
    },
    "tags": []
   },
   "outputs": [],
   "source": [
    "test_data['offer expiration']=test_data['offer expiration'].str.replace('2days','48hours')"
   ]
  },
  {
   "cell_type": "code",
   "execution_count": 40,
   "id": "c5cfb31c",
   "metadata": {
    "execution": {
     "iopub.execute_input": "2022-12-18T06:49:13.201335Z",
     "iopub.status.busy": "2022-12-18T06:49:13.200549Z",
     "iopub.status.idle": "2022-12-18T06:49:13.211428Z",
     "shell.execute_reply": "2022-12-18T06:49:13.210433Z"
    },
    "papermill": {
     "duration": 0.050007,
     "end_time": "2022-12-18T06:49:13.213846",
     "exception": false,
     "start_time": "2022-12-18T06:49:13.163839",
     "status": "completed"
    },
    "tags": []
   },
   "outputs": [],
   "source": [
    "test_data['offer expiration']=test_data['offer expiration'].str.replace('hours','')"
   ]
  },
  {
   "cell_type": "code",
   "execution_count": 41,
   "id": "fa24140b",
   "metadata": {
    "execution": {
     "iopub.execute_input": "2022-12-18T06:49:13.286491Z",
     "iopub.status.busy": "2022-12-18T06:49:13.285800Z",
     "iopub.status.idle": "2022-12-18T06:49:13.296764Z",
     "shell.execute_reply": "2022-12-18T06:49:13.295656Z"
    },
    "papermill": {
     "duration": 0.050084,
     "end_time": "2022-12-18T06:49:13.299457",
     "exception": false,
     "start_time": "2022-12-18T06:49:13.249373",
     "status": "completed"
    },
    "tags": []
   },
   "outputs": [],
   "source": [
    "test_data=test_data.replace(np.nan,'')"
   ]
  },
  {
   "cell_type": "code",
   "execution_count": 42,
   "id": "2875c552",
   "metadata": {
    "execution": {
     "iopub.execute_input": "2022-12-18T06:49:13.372097Z",
     "iopub.status.busy": "2022-12-18T06:49:13.371642Z",
     "iopub.status.idle": "2022-12-18T06:49:13.379700Z",
     "shell.execute_reply": "2022-12-18T06:49:13.378518Z"
    },
    "papermill": {
     "duration": 0.046708,
     "end_time": "2022-12-18T06:49:13.382127",
     "exception": false,
     "start_time": "2022-12-18T06:49:13.335419",
     "status": "completed"
    },
    "tags": []
   },
   "outputs": [],
   "source": [
    "test_data['no_visited_Cold drinks']=s.fit_transform(test_data['no_visited_Cold drinks'].values.reshape(-1,1))"
   ]
  },
  {
   "cell_type": "code",
   "execution_count": 43,
   "id": "6864cac6",
   "metadata": {
    "execution": {
     "iopub.execute_input": "2022-12-18T06:49:13.455086Z",
     "iopub.status.busy": "2022-12-18T06:49:13.454695Z",
     "iopub.status.idle": "2022-12-18T06:49:13.461875Z",
     "shell.execute_reply": "2022-12-18T06:49:13.461055Z"
    },
    "papermill": {
     "duration": 0.045719,
     "end_time": "2022-12-18T06:49:13.463982",
     "exception": false,
     "start_time": "2022-12-18T06:49:13.418263",
     "status": "completed"
    },
    "tags": []
   },
   "outputs": [],
   "source": [
    "test_data['Restaur_spend_less_than20']=s.fit_transform(test_data['Restaur_spend_less_than20'].values.reshape(-1,1))"
   ]
  },
  {
   "cell_type": "code",
   "execution_count": 44,
   "id": "10f72e2d",
   "metadata": {
    "execution": {
     "iopub.execute_input": "2022-12-18T06:49:13.536199Z",
     "iopub.status.busy": "2022-12-18T06:49:13.535792Z",
     "iopub.status.idle": "2022-12-18T06:49:13.543397Z",
     "shell.execute_reply": "2022-12-18T06:49:13.542311Z"
    },
    "papermill": {
     "duration": 0.046644,
     "end_time": "2022-12-18T06:49:13.545868",
     "exception": false,
     "start_time": "2022-12-18T06:49:13.499224",
     "status": "completed"
    },
    "tags": []
   },
   "outputs": [],
   "source": [
    "test_data['no_visited_bars']=s.fit_transform(test_data['no_visited_bars'].values.reshape(-1,1))"
   ]
  },
  {
   "cell_type": "code",
   "execution_count": 45,
   "id": "c81d555a",
   "metadata": {
    "execution": {
     "iopub.execute_input": "2022-12-18T06:49:13.618924Z",
     "iopub.status.busy": "2022-12-18T06:49:13.618547Z",
     "iopub.status.idle": "2022-12-18T06:49:13.626496Z",
     "shell.execute_reply": "2022-12-18T06:49:13.625259Z"
    },
    "papermill": {
     "duration": 0.047207,
     "end_time": "2022-12-18T06:49:13.628854",
     "exception": false,
     "start_time": "2022-12-18T06:49:13.581647",
     "status": "completed"
    },
    "tags": []
   },
   "outputs": [],
   "source": [
    "test_data['no_Take-aways']=s.fit_transform(test_data['no_Take-aways'].values.reshape(-1,1))"
   ]
  },
  {
   "cell_type": "code",
   "execution_count": 46,
   "id": "9ce79333",
   "metadata": {
    "execution": {
     "iopub.execute_input": "2022-12-18T06:49:13.702441Z",
     "iopub.status.busy": "2022-12-18T06:49:13.701504Z",
     "iopub.status.idle": "2022-12-18T06:49:13.708889Z",
     "shell.execute_reply": "2022-12-18T06:49:13.707933Z"
    },
    "papermill": {
     "duration": 0.046381,
     "end_time": "2022-12-18T06:49:13.711121",
     "exception": false,
     "start_time": "2022-12-18T06:49:13.664740",
     "status": "completed"
    },
    "tags": []
   },
   "outputs": [],
   "source": [
    "test_data['Restaur_spend_greater_than20']=s.fit_transform(test_data['Restaur_spend_greater_than20'].values.reshape(-1,1))"
   ]
  },
  {
   "cell_type": "code",
   "execution_count": 47,
   "id": "c492fed2",
   "metadata": {
    "execution": {
     "iopub.execute_input": "2022-12-18T06:49:13.783782Z",
     "iopub.status.busy": "2022-12-18T06:49:13.783403Z",
     "iopub.status.idle": "2022-12-18T06:49:13.789679Z",
     "shell.execute_reply": "2022-12-18T06:49:13.788626Z"
    },
    "papermill": {
     "duration": 0.045965,
     "end_time": "2022-12-18T06:49:13.792108",
     "exception": false,
     "start_time": "2022-12-18T06:49:13.746143",
     "status": "completed"
    },
    "tags": []
   },
   "outputs": [],
   "source": [
    "test_data['offer expiration']=test_data['offer expiration'].astype(int)"
   ]
  },
  {
   "cell_type": "code",
   "execution_count": 48,
   "id": "71df37eb",
   "metadata": {
    "execution": {
     "iopub.execute_input": "2022-12-18T06:49:13.864329Z",
     "iopub.status.busy": "2022-12-18T06:49:13.863929Z",
     "iopub.status.idle": "2022-12-18T06:49:13.873265Z",
     "shell.execute_reply": "2022-12-18T06:49:13.872254Z"
    },
    "papermill": {
     "duration": 0.048385,
     "end_time": "2022-12-18T06:49:13.875677",
     "exception": false,
     "start_time": "2022-12-18T06:49:13.827292",
     "status": "completed"
    },
    "tags": []
   },
   "outputs": [],
   "source": [
    "test_data['age']=test_data['age'].str.replace('below21','20')"
   ]
  },
  {
   "cell_type": "code",
   "execution_count": 49,
   "id": "fcd4a66e",
   "metadata": {
    "execution": {
     "iopub.execute_input": "2022-12-18T06:49:13.947916Z",
     "iopub.status.busy": "2022-12-18T06:49:13.947532Z",
     "iopub.status.idle": "2022-12-18T06:49:13.957462Z",
     "shell.execute_reply": "2022-12-18T06:49:13.956141Z"
    },
    "papermill": {
     "duration": 0.049199,
     "end_time": "2022-12-18T06:49:13.959812",
     "exception": false,
     "start_time": "2022-12-18T06:49:13.910613",
     "status": "completed"
    },
    "tags": []
   },
   "outputs": [],
   "source": [
    "test_data['age']= test_data['age'].str.replace('50plus','51')"
   ]
  },
  {
   "cell_type": "code",
   "execution_count": 50,
   "id": "4f5ff4ed",
   "metadata": {
    "execution": {
     "iopub.execute_input": "2022-12-18T06:49:14.033803Z",
     "iopub.status.busy": "2022-12-18T06:49:14.033418Z",
     "iopub.status.idle": "2022-12-18T06:49:14.039767Z",
     "shell.execute_reply": "2022-12-18T06:49:14.038605Z"
    },
    "papermill": {
     "duration": 0.046563,
     "end_time": "2022-12-18T06:49:14.042016",
     "exception": false,
     "start_time": "2022-12-18T06:49:13.995453",
     "status": "completed"
    },
    "tags": []
   },
   "outputs": [],
   "source": [
    "test_data['age']=test_data['age'].astype(int)"
   ]
  },
  {
   "cell_type": "code",
   "execution_count": 51,
   "id": "6c939bad",
   "metadata": {
    "execution": {
     "iopub.execute_input": "2022-12-18T06:49:14.117101Z",
     "iopub.status.busy": "2022-12-18T06:49:14.116728Z",
     "iopub.status.idle": "2022-12-18T06:49:14.127012Z",
     "shell.execute_reply": "2022-12-18T06:49:14.125964Z"
    },
    "papermill": {
     "duration": 0.050353,
     "end_time": "2022-12-18T06:49:14.129538",
     "exception": false,
     "start_time": "2022-12-18T06:49:14.079185",
     "status": "completed"
    },
    "tags": []
   },
   "outputs": [],
   "source": [
    "test_data['age']=pd.cut(test_data['age'],bins=[0,20,30,40,50,float('Inf')],labels=['below 21','21-30','31-40','41-50','50plus'])"
   ]
  },
  {
   "cell_type": "code",
   "execution_count": 52,
   "id": "b731580d",
   "metadata": {
    "execution": {
     "iopub.execute_input": "2022-12-18T06:49:14.203561Z",
     "iopub.status.busy": "2022-12-18T06:49:14.203154Z",
     "iopub.status.idle": "2022-12-18T06:49:14.248609Z",
     "shell.execute_reply": "2022-12-18T06:49:14.247459Z"
    },
    "papermill": {
     "duration": 0.085757,
     "end_time": "2022-12-18T06:49:14.251172",
     "exception": false,
     "start_time": "2022-12-18T06:49:14.165415",
     "status": "completed"
    },
    "tags": []
   },
   "outputs": [],
   "source": [
    "X_test= ct.transform(test_data)"
   ]
  },
  {
   "cell_type": "code",
   "execution_count": 53,
   "id": "2b55ff5b",
   "metadata": {
    "execution": {
     "iopub.execute_input": "2022-12-18T06:49:14.325336Z",
     "iopub.status.busy": "2022-12-18T06:49:14.324885Z",
     "iopub.status.idle": "2022-12-18T06:49:14.337294Z",
     "shell.execute_reply": "2022-12-18T06:49:14.336119Z"
    },
    "papermill": {
     "duration": 0.052378,
     "end_time": "2022-12-18T06:49:14.339801",
     "exception": false,
     "start_time": "2022-12-18T06:49:14.287423",
     "status": "completed"
    },
    "tags": []
   },
   "outputs": [],
   "source": [
    "X_t1,X_t2,y_t1,y_t2= train_test_split(X_train,y_train,test_size=0.2, random_state=42)"
   ]
  },
  {
   "cell_type": "markdown",
   "id": "320e9250",
   "metadata": {
    "papermill": {
     "duration": 0.035712,
     "end_time": "2022-12-18T06:49:14.411360",
     "exception": false,
     "start_time": "2022-12-18T06:49:14.375648",
     "status": "completed"
    },
    "tags": []
   },
   "source": [
    "1) DUMMY CLASSIFIER"
   ]
  },
  {
   "cell_type": "code",
   "execution_count": 54,
   "id": "c1d8c675",
   "metadata": {
    "execution": {
     "iopub.execute_input": "2022-12-18T06:49:14.484269Z",
     "iopub.status.busy": "2022-12-18T06:49:14.483828Z",
     "iopub.status.idle": "2022-12-18T06:49:14.488692Z",
     "shell.execute_reply": "2022-12-18T06:49:14.487683Z"
    },
    "papermill": {
     "duration": 0.04396,
     "end_time": "2022-12-18T06:49:14.490926",
     "exception": false,
     "start_time": "2022-12-18T06:49:14.446966",
     "status": "completed"
    },
    "tags": []
   },
   "outputs": [],
   "source": [
    "#d= DummyClassifier(strategy='uniform', random_state=42)"
   ]
  },
  {
   "cell_type": "code",
   "execution_count": 55,
   "id": "dd360b6d",
   "metadata": {
    "execution": {
     "iopub.execute_input": "2022-12-18T06:49:14.565083Z",
     "iopub.status.busy": "2022-12-18T06:49:14.563924Z",
     "iopub.status.idle": "2022-12-18T06:49:14.569085Z",
     "shell.execute_reply": "2022-12-18T06:49:14.568286Z"
    },
    "papermill": {
     "duration": 0.043961,
     "end_time": "2022-12-18T06:49:14.571360",
     "exception": false,
     "start_time": "2022-12-18T06:49:14.527399",
     "status": "completed"
    },
    "tags": []
   },
   "outputs": [],
   "source": [
    "#d.fit(X_t1,y_t1)"
   ]
  },
  {
   "cell_type": "code",
   "execution_count": 56,
   "id": "01193cb0",
   "metadata": {
    "execution": {
     "iopub.execute_input": "2022-12-18T06:49:14.645744Z",
     "iopub.status.busy": "2022-12-18T06:49:14.645027Z",
     "iopub.status.idle": "2022-12-18T06:49:14.649971Z",
     "shell.execute_reply": "2022-12-18T06:49:14.648805Z"
    },
    "papermill": {
     "duration": 0.044511,
     "end_time": "2022-12-18T06:49:14.652283",
     "exception": false,
     "start_time": "2022-12-18T06:49:14.607772",
     "status": "completed"
    },
    "tags": []
   },
   "outputs": [],
   "source": [
    "#y_d= d.predict(X_t2)"
   ]
  },
  {
   "cell_type": "code",
   "execution_count": 57,
   "id": "3cea895c",
   "metadata": {
    "execution": {
     "iopub.execute_input": "2022-12-18T06:49:14.724252Z",
     "iopub.status.busy": "2022-12-18T06:49:14.723813Z",
     "iopub.status.idle": "2022-12-18T06:49:14.728324Z",
     "shell.execute_reply": "2022-12-18T06:49:14.727128Z"
    },
    "papermill": {
     "duration": 0.043079,
     "end_time": "2022-12-18T06:49:14.730464",
     "exception": false,
     "start_time": "2022-12-18T06:49:14.687385",
     "status": "completed"
    },
    "tags": []
   },
   "outputs": [],
   "source": [
    "#print(classification_report(y_t2,y_d))"
   ]
  },
  {
   "cell_type": "code",
   "execution_count": 58,
   "id": "ef7934a6",
   "metadata": {
    "execution": {
     "iopub.execute_input": "2022-12-18T06:49:14.802581Z",
     "iopub.status.busy": "2022-12-18T06:49:14.800790Z",
     "iopub.status.idle": "2022-12-18T06:49:14.806231Z",
     "shell.execute_reply": "2022-12-18T06:49:14.805439Z"
    },
    "papermill": {
     "duration": 0.043489,
     "end_time": "2022-12-18T06:49:14.808517",
     "exception": false,
     "start_time": "2022-12-18T06:49:14.765028",
     "status": "completed"
    },
    "tags": []
   },
   "outputs": [],
   "source": [
    "#print(roc_auc_score(y_t2,d.predict_proba(X_t2)[:,1]))"
   ]
  },
  {
   "cell_type": "markdown",
   "id": "f42139f4",
   "metadata": {
    "papermill": {
     "duration": 0.0344,
     "end_time": "2022-12-18T06:49:14.878707",
     "exception": false,
     "start_time": "2022-12-18T06:49:14.844307",
     "status": "completed"
    },
    "tags": []
   },
   "source": [
    "2) LOGISTIC REGRESSION"
   ]
  },
  {
   "cell_type": "code",
   "execution_count": 59,
   "id": "e31e6e83",
   "metadata": {
    "execution": {
     "iopub.execute_input": "2022-12-18T06:49:14.952641Z",
     "iopub.status.busy": "2022-12-18T06:49:14.951798Z",
     "iopub.status.idle": "2022-12-18T06:49:14.956766Z",
     "shell.execute_reply": "2022-12-18T06:49:14.955635Z"
    },
    "papermill": {
     "duration": 0.044936,
     "end_time": "2022-12-18T06:49:14.959449",
     "exception": false,
     "start_time": "2022-12-18T06:49:14.914513",
     "status": "completed"
    },
    "tags": []
   },
   "outputs": [],
   "source": [
    "#lr= LogisticRegression(random_state=42)\n",
    "#lr.fit(X_t1,y_t1)\n",
    "#y_lr= lr.predict(X_t2)\n",
    "#print(classification_report(y_t2,y_lr))"
   ]
  },
  {
   "cell_type": "code",
   "execution_count": 60,
   "id": "c200046b",
   "metadata": {
    "execution": {
     "iopub.execute_input": "2022-12-18T06:49:15.034529Z",
     "iopub.status.busy": "2022-12-18T06:49:15.033756Z",
     "iopub.status.idle": "2022-12-18T06:49:15.038630Z",
     "shell.execute_reply": "2022-12-18T06:49:15.037746Z"
    },
    "papermill": {
     "duration": 0.046625,
     "end_time": "2022-12-18T06:49:15.040901",
     "exception": false,
     "start_time": "2022-12-18T06:49:14.994276",
     "status": "completed"
    },
    "tags": []
   },
   "outputs": [],
   "source": [
    "#print(roc_auc_score(y_t2,lr.predict_proba(X_t2)[:,1]))"
   ]
  },
  {
   "cell_type": "code",
   "execution_count": 61,
   "id": "f72d9332",
   "metadata": {
    "execution": {
     "iopub.execute_input": "2022-12-18T06:49:15.116156Z",
     "iopub.status.busy": "2022-12-18T06:49:15.115392Z",
     "iopub.status.idle": "2022-12-18T06:49:15.120017Z",
     "shell.execute_reply": "2022-12-18T06:49:15.119269Z"
    },
    "papermill": {
     "duration": 0.04583,
     "end_time": "2022-12-18T06:49:15.122299",
     "exception": false,
     "start_time": "2022-12-18T06:49:15.076469",
     "status": "completed"
    },
    "tags": []
   },
   "outputs": [],
   "source": [
    "#params_lr=[{'solver':['lbfgs','liblinear','saga','newton-cg'], 'C':[1,10,100]}]\n",
    "#grid_lr=GridSearchCV(estimator=lr, param_grid=params_lr, cv=5, scoring='f1_macro')\n",
    "#grid_lr.fit(X_t1,y_t1)"
   ]
  },
  {
   "cell_type": "code",
   "execution_count": 62,
   "id": "565477cb",
   "metadata": {
    "execution": {
     "iopub.execute_input": "2022-12-18T06:49:15.194509Z",
     "iopub.status.busy": "2022-12-18T06:49:15.193762Z",
     "iopub.status.idle": "2022-12-18T06:49:15.198400Z",
     "shell.execute_reply": "2022-12-18T06:49:15.197553Z"
    },
    "papermill": {
     "duration": 0.043304,
     "end_time": "2022-12-18T06:49:15.200695",
     "exception": false,
     "start_time": "2022-12-18T06:49:15.157391",
     "status": "completed"
    },
    "tags": []
   },
   "outputs": [],
   "source": [
    "#grid_lr.best_score_"
   ]
  },
  {
   "cell_type": "code",
   "execution_count": 63,
   "id": "31f578b0",
   "metadata": {
    "execution": {
     "iopub.execute_input": "2022-12-18T06:49:15.272776Z",
     "iopub.status.busy": "2022-12-18T06:49:15.272377Z",
     "iopub.status.idle": "2022-12-18T06:49:15.277178Z",
     "shell.execute_reply": "2022-12-18T06:49:15.276220Z"
    },
    "papermill": {
     "duration": 0.043017,
     "end_time": "2022-12-18T06:49:15.279246",
     "exception": false,
     "start_time": "2022-12-18T06:49:15.236229",
     "status": "completed"
    },
    "tags": []
   },
   "outputs": [],
   "source": [
    "#grid_lr.best_params_"
   ]
  },
  {
   "cell_type": "code",
   "execution_count": 64,
   "id": "8fddb50c",
   "metadata": {
    "execution": {
     "iopub.execute_input": "2022-12-18T06:49:15.350693Z",
     "iopub.status.busy": "2022-12-18T06:49:15.350310Z",
     "iopub.status.idle": "2022-12-18T06:49:15.354785Z",
     "shell.execute_reply": "2022-12-18T06:49:15.353524Z"
    },
    "papermill": {
     "duration": 0.042934,
     "end_time": "2022-12-18T06:49:15.357011",
     "exception": false,
     "start_time": "2022-12-18T06:49:15.314077",
     "status": "completed"
    },
    "tags": []
   },
   "outputs": [],
   "source": [
    "#lr1= LogisticRegression(C=10,solver='liblinear',random_state=42)\n",
    "#lr1.fit(X_t1,y_t1)\n",
    "#y_lr1=lr1.predict(X_t2)\n",
    "#print(classification_report(y_t2,y_lr1))"
   ]
  },
  {
   "cell_type": "code",
   "execution_count": 65,
   "id": "33179cc0",
   "metadata": {
    "execution": {
     "iopub.execute_input": "2022-12-18T06:49:15.428996Z",
     "iopub.status.busy": "2022-12-18T06:49:15.428614Z",
     "iopub.status.idle": "2022-12-18T06:49:15.432942Z",
     "shell.execute_reply": "2022-12-18T06:49:15.431877Z"
    },
    "papermill": {
     "duration": 0.042917,
     "end_time": "2022-12-18T06:49:15.434995",
     "exception": false,
     "start_time": "2022-12-18T06:49:15.392078",
     "status": "completed"
    },
    "tags": []
   },
   "outputs": [],
   "source": [
    "#print(roc_auc_score(y_t2,lr1.predict_proba(X_t2)[:,1]))"
   ]
  },
  {
   "cell_type": "markdown",
   "id": "56731048",
   "metadata": {
    "papermill": {
     "duration": 0.034304,
     "end_time": "2022-12-18T06:49:15.504027",
     "exception": false,
     "start_time": "2022-12-18T06:49:15.469723",
     "status": "completed"
    },
    "tags": []
   },
   "source": [
    "3) KNEAREST NEIGHBORS"
   ]
  },
  {
   "cell_type": "code",
   "execution_count": 66,
   "id": "4e1d8752",
   "metadata": {
    "execution": {
     "iopub.execute_input": "2022-12-18T06:49:15.575434Z",
     "iopub.status.busy": "2022-12-18T06:49:15.574972Z",
     "iopub.status.idle": "2022-12-18T06:49:15.579790Z",
     "shell.execute_reply": "2022-12-18T06:49:15.578553Z"
    },
    "papermill": {
     "duration": 0.043593,
     "end_time": "2022-12-18T06:49:15.582129",
     "exception": false,
     "start_time": "2022-12-18T06:49:15.538536",
     "status": "completed"
    },
    "tags": []
   },
   "outputs": [],
   "source": [
    "#KNN= KNeighborsClassifier()"
   ]
  },
  {
   "cell_type": "code",
   "execution_count": 67,
   "id": "01c24495",
   "metadata": {
    "execution": {
     "iopub.execute_input": "2022-12-18T06:49:15.655761Z",
     "iopub.status.busy": "2022-12-18T06:49:15.655379Z",
     "iopub.status.idle": "2022-12-18T06:49:15.660197Z",
     "shell.execute_reply": "2022-12-18T06:49:15.659268Z"
    },
    "papermill": {
     "duration": 0.044421,
     "end_time": "2022-12-18T06:49:15.662487",
     "exception": false,
     "start_time": "2022-12-18T06:49:15.618066",
     "status": "completed"
    },
    "tags": []
   },
   "outputs": [],
   "source": [
    "#KNN.fit(X_t1,y_t1)"
   ]
  },
  {
   "cell_type": "code",
   "execution_count": 68,
   "id": "092259f8",
   "metadata": {
    "execution": {
     "iopub.execute_input": "2022-12-18T06:49:15.735250Z",
     "iopub.status.busy": "2022-12-18T06:49:15.734821Z",
     "iopub.status.idle": "2022-12-18T06:49:15.739272Z",
     "shell.execute_reply": "2022-12-18T06:49:15.738029Z"
    },
    "papermill": {
     "duration": 0.043408,
     "end_time": "2022-12-18T06:49:15.741406",
     "exception": false,
     "start_time": "2022-12-18T06:49:15.697998",
     "status": "completed"
    },
    "tags": []
   },
   "outputs": [],
   "source": [
    "#y_k=KNN.predict(X_t2)"
   ]
  },
  {
   "cell_type": "code",
   "execution_count": 69,
   "id": "d97134a3",
   "metadata": {
    "execution": {
     "iopub.execute_input": "2022-12-18T06:49:15.812816Z",
     "iopub.status.busy": "2022-12-18T06:49:15.812439Z",
     "iopub.status.idle": "2022-12-18T06:49:15.817049Z",
     "shell.execute_reply": "2022-12-18T06:49:15.815958Z"
    },
    "papermill": {
     "duration": 0.043219,
     "end_time": "2022-12-18T06:49:15.819235",
     "exception": false,
     "start_time": "2022-12-18T06:49:15.776016",
     "status": "completed"
    },
    "tags": []
   },
   "outputs": [],
   "source": [
    "#print(classification_report(y_t2,y_k))"
   ]
  },
  {
   "cell_type": "code",
   "execution_count": 70,
   "id": "3c12d0d9",
   "metadata": {
    "execution": {
     "iopub.execute_input": "2022-12-18T06:49:15.890764Z",
     "iopub.status.busy": "2022-12-18T06:49:15.890380Z",
     "iopub.status.idle": "2022-12-18T06:49:15.895010Z",
     "shell.execute_reply": "2022-12-18T06:49:15.894026Z"
    },
    "papermill": {
     "duration": 0.043105,
     "end_time": "2022-12-18T06:49:15.897141",
     "exception": false,
     "start_time": "2022-12-18T06:49:15.854036",
     "status": "completed"
    },
    "tags": []
   },
   "outputs": [],
   "source": [
    "#print(roc_auc_score(y_t2,KNN.predict_proba(X_t2)[:,1]))"
   ]
  },
  {
   "cell_type": "code",
   "execution_count": 71,
   "id": "96a1da8c",
   "metadata": {
    "execution": {
     "iopub.execute_input": "2022-12-18T06:49:15.973888Z",
     "iopub.status.busy": "2022-12-18T06:49:15.973499Z",
     "iopub.status.idle": "2022-12-18T06:49:15.978588Z",
     "shell.execute_reply": "2022-12-18T06:49:15.977286Z"
    },
    "papermill": {
     "duration": 0.045938,
     "end_time": "2022-12-18T06:49:15.980877",
     "exception": false,
     "start_time": "2022-12-18T06:49:15.934939",
     "status": "completed"
    },
    "tags": []
   },
   "outputs": [],
   "source": [
    "#params=[{'n_neighbors':list(range(1,31)),'weights':['uniform','distance'],'metric':['minkowski','euclidean','manhattan']}]\n",
    "#grid_k= GridSearchCV(estimator=KNN, param_grid=params,scoring='f1_macro')"
   ]
  },
  {
   "cell_type": "code",
   "execution_count": 72,
   "id": "ff6146b8",
   "metadata": {
    "execution": {
     "iopub.execute_input": "2022-12-18T06:49:16.056150Z",
     "iopub.status.busy": "2022-12-18T06:49:16.055733Z",
     "iopub.status.idle": "2022-12-18T06:49:16.061089Z",
     "shell.execute_reply": "2022-12-18T06:49:16.059899Z"
    },
    "papermill": {
     "duration": 0.044903,
     "end_time": "2022-12-18T06:49:16.063465",
     "exception": false,
     "start_time": "2022-12-18T06:49:16.018562",
     "status": "completed"
    },
    "tags": []
   },
   "outputs": [],
   "source": [
    "#grid_k.fit(X_t1,y_t1)"
   ]
  },
  {
   "cell_type": "code",
   "execution_count": 73,
   "id": "a36c6fb3",
   "metadata": {
    "execution": {
     "iopub.execute_input": "2022-12-18T06:49:16.151513Z",
     "iopub.status.busy": "2022-12-18T06:49:16.150875Z",
     "iopub.status.idle": "2022-12-18T06:49:16.157700Z",
     "shell.execute_reply": "2022-12-18T06:49:16.156366Z"
    },
    "papermill": {
     "duration": 0.060182,
     "end_time": "2022-12-18T06:49:16.160681",
     "exception": false,
     "start_time": "2022-12-18T06:49:16.100499",
     "status": "completed"
    },
    "tags": []
   },
   "outputs": [],
   "source": [
    "#grid_k.best_score_"
   ]
  },
  {
   "cell_type": "code",
   "execution_count": 74,
   "id": "5b803c79",
   "metadata": {
    "execution": {
     "iopub.execute_input": "2022-12-18T06:49:16.251656Z",
     "iopub.status.busy": "2022-12-18T06:49:16.250449Z",
     "iopub.status.idle": "2022-12-18T06:49:16.255716Z",
     "shell.execute_reply": "2022-12-18T06:49:16.254916Z"
    },
    "papermill": {
     "duration": 0.045705,
     "end_time": "2022-12-18T06:49:16.257894",
     "exception": false,
     "start_time": "2022-12-18T06:49:16.212189",
     "status": "completed"
    },
    "tags": []
   },
   "outputs": [],
   "source": [
    "#grid_k.best_params_"
   ]
  },
  {
   "cell_type": "code",
   "execution_count": 75,
   "id": "1952f56e",
   "metadata": {
    "execution": {
     "iopub.execute_input": "2022-12-18T06:49:16.331780Z",
     "iopub.status.busy": "2022-12-18T06:49:16.330673Z",
     "iopub.status.idle": "2022-12-18T06:49:16.336279Z",
     "shell.execute_reply": "2022-12-18T06:49:16.335106Z"
    },
    "papermill": {
     "duration": 0.045147,
     "end_time": "2022-12-18T06:49:16.338794",
     "exception": false,
     "start_time": "2022-12-18T06:49:16.293647",
     "status": "completed"
    },
    "tags": []
   },
   "outputs": [],
   "source": [
    "#knn= KNeighborsClassifier(n_neighbors=29,metric='manhattan',weights='distance')"
   ]
  },
  {
   "cell_type": "code",
   "execution_count": 76,
   "id": "d4fad3cb",
   "metadata": {
    "execution": {
     "iopub.execute_input": "2022-12-18T06:49:16.413343Z",
     "iopub.status.busy": "2022-12-18T06:49:16.412923Z",
     "iopub.status.idle": "2022-12-18T06:49:16.418537Z",
     "shell.execute_reply": "2022-12-18T06:49:16.417015Z"
    },
    "papermill": {
     "duration": 0.045249,
     "end_time": "2022-12-18T06:49:16.421006",
     "exception": false,
     "start_time": "2022-12-18T06:49:16.375757",
     "status": "completed"
    },
    "tags": []
   },
   "outputs": [],
   "source": [
    "#knn.fit(X_t1,y_t1)\n",
    "#y_kn1=knn.predict(X_t2)\n",
    "#print(classification_report(y_t2,y_kn1))"
   ]
  },
  {
   "cell_type": "code",
   "execution_count": 77,
   "id": "3d170445",
   "metadata": {
    "execution": {
     "iopub.execute_input": "2022-12-18T06:49:16.588548Z",
     "iopub.status.busy": "2022-12-18T06:49:16.588152Z",
     "iopub.status.idle": "2022-12-18T06:49:16.593147Z",
     "shell.execute_reply": "2022-12-18T06:49:16.591876Z"
    },
    "papermill": {
     "duration": 0.044192,
     "end_time": "2022-12-18T06:49:16.595391",
     "exception": false,
     "start_time": "2022-12-18T06:49:16.551199",
     "status": "completed"
    },
    "tags": []
   },
   "outputs": [],
   "source": [
    "#print(roc_auc_score(y_t2,knn.predict_proba(X_t2)[:,1]))"
   ]
  },
  {
   "cell_type": "markdown",
   "id": "c7bd94a8",
   "metadata": {
    "papermill": {
     "duration": 0.036081,
     "end_time": "2022-12-18T06:49:16.668816",
     "exception": false,
     "start_time": "2022-12-18T06:49:16.632735",
     "status": "completed"
    },
    "tags": []
   },
   "source": [
    "4)SUPPORT VECTOR CLASSIFICATION"
   ]
  },
  {
   "cell_type": "code",
   "execution_count": 78,
   "id": "7c50dd8a",
   "metadata": {
    "execution": {
     "iopub.execute_input": "2022-12-18T06:49:16.743514Z",
     "iopub.status.busy": "2022-12-18T06:49:16.742092Z",
     "iopub.status.idle": "2022-12-18T06:49:16.747493Z",
     "shell.execute_reply": "2022-12-18T06:49:16.746669Z"
    },
    "papermill": {
     "duration": 0.045054,
     "end_time": "2022-12-18T06:49:16.750094",
     "exception": false,
     "start_time": "2022-12-18T06:49:16.705040",
     "status": "completed"
    },
    "tags": []
   },
   "outputs": [],
   "source": [
    "#svm=SVC(random_state=42,probability=True, kernel='rbf')\n",
    "#svm.fit(X_t1,y_t1)\n",
    "#y_s=svm.predict(X_t2)\n",
    "#print(classification_report(y_t2,y_s))"
   ]
  },
  {
   "cell_type": "code",
   "execution_count": 79,
   "id": "691f395b",
   "metadata": {
    "execution": {
     "iopub.execute_input": "2022-12-18T06:49:16.824300Z",
     "iopub.status.busy": "2022-12-18T06:49:16.823564Z",
     "iopub.status.idle": "2022-12-18T06:49:16.828191Z",
     "shell.execute_reply": "2022-12-18T06:49:16.827387Z"
    },
    "papermill": {
     "duration": 0.043967,
     "end_time": "2022-12-18T06:49:16.830268",
     "exception": false,
     "start_time": "2022-12-18T06:49:16.786301",
     "status": "completed"
    },
    "tags": []
   },
   "outputs": [],
   "source": [
    "#print(roc_auc_score(y_t2,svm.predict_proba(X_t2)[:,1]))"
   ]
  },
  {
   "cell_type": "code",
   "execution_count": 80,
   "id": "33714f86",
   "metadata": {
    "execution": {
     "iopub.execute_input": "2022-12-18T06:49:16.903747Z",
     "iopub.status.busy": "2022-12-18T06:49:16.902993Z",
     "iopub.status.idle": "2022-12-18T06:49:16.907105Z",
     "shell.execute_reply": "2022-12-18T06:49:16.906297Z"
    },
    "papermill": {
     "duration": 0.043665,
     "end_time": "2022-12-18T06:49:16.909236",
     "exception": false,
     "start_time": "2022-12-18T06:49:16.865571",
     "status": "completed"
    },
    "tags": []
   },
   "outputs": [],
   "source": [
    "#svm1=SVC(C=1, kernel='rbf',gamma=0.1,decision_function_shape='ovr',random_state=42, probability=True)\n",
    "#svm1.fit(X_t1,y_t1)\n",
    "#y_svm=svm1.predict(X_t2)\n",
    "#print(classification_report(y_t2,y_svm))"
   ]
  },
  {
   "cell_type": "code",
   "execution_count": 81,
   "id": "9e11e5c1",
   "metadata": {
    "execution": {
     "iopub.execute_input": "2022-12-18T06:49:16.984376Z",
     "iopub.status.busy": "2022-12-18T06:49:16.983576Z",
     "iopub.status.idle": "2022-12-18T06:49:16.988234Z",
     "shell.execute_reply": "2022-12-18T06:49:16.987417Z"
    },
    "papermill": {
     "duration": 0.044916,
     "end_time": "2022-12-18T06:49:16.990565",
     "exception": false,
     "start_time": "2022-12-18T06:49:16.945649",
     "status": "completed"
    },
    "tags": []
   },
   "outputs": [],
   "source": [
    "#print(roc_auc_score(y_t2,svm1.predict_proba(X_t2)[:,1]))"
   ]
  },
  {
   "cell_type": "code",
   "execution_count": 82,
   "id": "0624389b",
   "metadata": {
    "execution": {
     "iopub.execute_input": "2022-12-18T06:49:17.066853Z",
     "iopub.status.busy": "2022-12-18T06:49:17.066169Z",
     "iopub.status.idle": "2022-12-18T06:49:17.070479Z",
     "shell.execute_reply": "2022-12-18T06:49:17.069443Z"
    },
    "papermill": {
     "duration": 0.044319,
     "end_time": "2022-12-18T06:49:17.072816",
     "exception": false,
     "start_time": "2022-12-18T06:49:17.028497",
     "status": "completed"
    },
    "tags": []
   },
   "outputs": [],
   "source": [
    "#svm2=SVC(C=10, kernel='poly',degree=2,decision_function_shape='ovr',random_state=42, probability=True)\n",
    "#svm2.fit(X_t1,y_t1)\n",
    "#y_svm2=svm2.predict(X_t2)\n",
    "#print(classification_report(y_t2,y_svm2))"
   ]
  },
  {
   "cell_type": "code",
   "execution_count": 83,
   "id": "57c6f850",
   "metadata": {
    "execution": {
     "iopub.execute_input": "2022-12-18T06:49:17.149115Z",
     "iopub.status.busy": "2022-12-18T06:49:17.148161Z",
     "iopub.status.idle": "2022-12-18T06:49:17.152962Z",
     "shell.execute_reply": "2022-12-18T06:49:17.151811Z"
    },
    "papermill": {
     "duration": 0.045157,
     "end_time": "2022-12-18T06:49:17.155319",
     "exception": false,
     "start_time": "2022-12-18T06:49:17.110162",
     "status": "completed"
    },
    "tags": []
   },
   "outputs": [],
   "source": [
    "#print(roc_auc_score(y_t2,svm2.predict_proba(X_t2)[:,1]))"
   ]
  },
  {
   "cell_type": "markdown",
   "id": "58c255c7",
   "metadata": {
    "papermill": {
     "duration": 0.037218,
     "end_time": "2022-12-18T06:49:17.230653",
     "exception": false,
     "start_time": "2022-12-18T06:49:17.193435",
     "status": "completed"
    },
    "tags": []
   },
   "source": [
    "5) DECISION TREES"
   ]
  },
  {
   "cell_type": "code",
   "execution_count": 84,
   "id": "54fb7b3f",
   "metadata": {
    "execution": {
     "iopub.execute_input": "2022-12-18T06:49:17.305863Z",
     "iopub.status.busy": "2022-12-18T06:49:17.305446Z",
     "iopub.status.idle": "2022-12-18T06:49:17.310538Z",
     "shell.execute_reply": "2022-12-18T06:49:17.309299Z"
    },
    "papermill": {
     "duration": 0.045634,
     "end_time": "2022-12-18T06:49:17.312834",
     "exception": false,
     "start_time": "2022-12-18T06:49:17.267200",
     "status": "completed"
    },
    "tags": []
   },
   "outputs": [],
   "source": [
    "#dt=DecisionTreeClassifier(random_state=42)\n",
    "#dt.fit(X_t1,y_t1)\n",
    "#y_d=dt.predict(X_t2)\n",
    "#print(classification_report(y_t2,y_d))"
   ]
  },
  {
   "cell_type": "code",
   "execution_count": 85,
   "id": "3a154975",
   "metadata": {
    "execution": {
     "iopub.execute_input": "2022-12-18T06:49:17.387203Z",
     "iopub.status.busy": "2022-12-18T06:49:17.385730Z",
     "iopub.status.idle": "2022-12-18T06:49:17.391687Z",
     "shell.execute_reply": "2022-12-18T06:49:17.390771Z"
    },
    "papermill": {
     "duration": 0.045793,
     "end_time": "2022-12-18T06:49:17.394037",
     "exception": false,
     "start_time": "2022-12-18T06:49:17.348244",
     "status": "completed"
    },
    "tags": []
   },
   "outputs": [],
   "source": [
    "#print(roc_auc_score(y_t2,dt.predict_proba(X_t2)[:,1]))"
   ]
  },
  {
   "cell_type": "code",
   "execution_count": 86,
   "id": "1818f9f8",
   "metadata": {
    "execution": {
     "iopub.execute_input": "2022-12-18T06:49:17.467156Z",
     "iopub.status.busy": "2022-12-18T06:49:17.466495Z",
     "iopub.status.idle": "2022-12-18T06:49:17.471844Z",
     "shell.execute_reply": "2022-12-18T06:49:17.470707Z"
    },
    "papermill": {
     "duration": 0.044977,
     "end_time": "2022-12-18T06:49:17.474272",
     "exception": false,
     "start_time": "2022-12-18T06:49:17.429295",
     "status": "completed"
    },
    "tags": []
   },
   "outputs": [],
   "source": [
    "#params_dt=[{'criterion':['gini','entropy'],'max_depth':list(range(1,10)),'min_samples_split':[2,4,6,8,10],}]\n",
    "#grid_dt=GridSearchCV(estimator=dt, param_grid=params_dt,cv=5,scoring='f1_macro')\n",
    "#grid_dt.fit(X_t1,y_t1)"
   ]
  },
  {
   "cell_type": "code",
   "execution_count": 87,
   "id": "03ab19c9",
   "metadata": {
    "execution": {
     "iopub.execute_input": "2022-12-18T06:49:17.547826Z",
     "iopub.status.busy": "2022-12-18T06:49:17.546336Z",
     "iopub.status.idle": "2022-12-18T06:49:17.551844Z",
     "shell.execute_reply": "2022-12-18T06:49:17.551071Z"
    },
    "papermill": {
     "duration": 0.044431,
     "end_time": "2022-12-18T06:49:17.554027",
     "exception": false,
     "start_time": "2022-12-18T06:49:17.509596",
     "status": "completed"
    },
    "tags": []
   },
   "outputs": [],
   "source": [
    "#grid_dt.best_params_"
   ]
  },
  {
   "cell_type": "code",
   "execution_count": 88,
   "id": "fbf91a8e",
   "metadata": {
    "execution": {
     "iopub.execute_input": "2022-12-18T06:49:17.626903Z",
     "iopub.status.busy": "2022-12-18T06:49:17.625600Z",
     "iopub.status.idle": "2022-12-18T06:49:17.630994Z",
     "shell.execute_reply": "2022-12-18T06:49:17.629814Z"
    },
    "papermill": {
     "duration": 0.044782,
     "end_time": "2022-12-18T06:49:17.633837",
     "exception": false,
     "start_time": "2022-12-18T06:49:17.589055",
     "status": "completed"
    },
    "tags": []
   },
   "outputs": [],
   "source": [
    "#grid_dt.best_score_"
   ]
  },
  {
   "cell_type": "code",
   "execution_count": 89,
   "id": "77359432",
   "metadata": {
    "execution": {
     "iopub.execute_input": "2022-12-18T06:49:17.709956Z",
     "iopub.status.busy": "2022-12-18T06:49:17.709314Z",
     "iopub.status.idle": "2022-12-18T06:49:17.714278Z",
     "shell.execute_reply": "2022-12-18T06:49:17.713041Z"
    },
    "papermill": {
     "duration": 0.04543,
     "end_time": "2022-12-18T06:49:17.716869",
     "exception": false,
     "start_time": "2022-12-18T06:49:17.671439",
     "status": "completed"
    },
    "tags": []
   },
   "outputs": [],
   "source": [
    "#dt1=DecisionTreeClassifier(criterion='entropy',max_depth=9, min_samples_split=2, random_state=42)\n",
    "#dt1.fit(X_t1,y_t1)\n",
    "#y_dt1=dt1.predict(X_t2)\n",
    "#print(classification_report(y_t2,y_dt1))"
   ]
  },
  {
   "cell_type": "code",
   "execution_count": 90,
   "id": "a8f8119b",
   "metadata": {
    "execution": {
     "iopub.execute_input": "2022-12-18T06:49:17.792530Z",
     "iopub.status.busy": "2022-12-18T06:49:17.792106Z",
     "iopub.status.idle": "2022-12-18T06:49:17.797353Z",
     "shell.execute_reply": "2022-12-18T06:49:17.796292Z"
    },
    "papermill": {
     "duration": 0.045438,
     "end_time": "2022-12-18T06:49:17.799560",
     "exception": false,
     "start_time": "2022-12-18T06:49:17.754122",
     "status": "completed"
    },
    "tags": []
   },
   "outputs": [],
   "source": [
    "#print(roc_auc_score(y_t2,dt1.predict_proba(X_t2)[:,1]))"
   ]
  },
  {
   "cell_type": "markdown",
   "id": "2db63fad",
   "metadata": {
    "papermill": {
     "duration": 0.035762,
     "end_time": "2022-12-18T06:49:17.872575",
     "exception": false,
     "start_time": "2022-12-18T06:49:17.836813",
     "status": "completed"
    },
    "tags": []
   },
   "source": [
    "6) RANDOM FOREST CLASSIFIER"
   ]
  },
  {
   "cell_type": "code",
   "execution_count": 91,
   "id": "26548223",
   "metadata": {
    "execution": {
     "iopub.execute_input": "2022-12-18T06:49:17.948653Z",
     "iopub.status.busy": "2022-12-18T06:49:17.947811Z",
     "iopub.status.idle": "2022-12-18T06:49:19.857065Z",
     "shell.execute_reply": "2022-12-18T06:49:19.855856Z"
    },
    "papermill": {
     "duration": 1.950375,
     "end_time": "2022-12-18T06:49:19.859995",
     "exception": false,
     "start_time": "2022-12-18T06:49:17.909620",
     "status": "completed"
    },
    "tags": []
   },
   "outputs": [
    {
     "name": "stdout",
     "output_type": "stream",
     "text": [
      "              precision    recall  f1-score   support\n",
      "\n",
      "          No       0.61      0.40      0.48      1105\n",
      "         Yes       0.62      0.79      0.70      1371\n",
      "\n",
      "    accuracy                           0.62      2476\n",
      "   macro avg       0.61      0.59      0.59      2476\n",
      "weighted avg       0.61      0.62      0.60      2476\n",
      "\n"
     ]
    }
   ],
   "source": [
    "rfc= RandomForestClassifier(random_state=42)\n",
    "rfc.fit(X_t1,y_t1)\n",
    "y_rfc=rfc.predict(X_t2)\n",
    "print(classification_report(y_t2,y_rfc))"
   ]
  },
  {
   "cell_type": "code",
   "execution_count": 92,
   "id": "2adc8d4f",
   "metadata": {
    "execution": {
     "iopub.execute_input": "2022-12-18T06:49:19.934928Z",
     "iopub.status.busy": "2022-12-18T06:49:19.934182Z",
     "iopub.status.idle": "2022-12-18T06:49:20.039050Z",
     "shell.execute_reply": "2022-12-18T06:49:20.037881Z"
    },
    "papermill": {
     "duration": 0.145399,
     "end_time": "2022-12-18T06:49:20.041931",
     "exception": false,
     "start_time": "2022-12-18T06:49:19.896532",
     "status": "completed"
    },
    "tags": []
   },
   "outputs": [
    {
     "name": "stdout",
     "output_type": "stream",
     "text": [
      "0.6480469716922286\n"
     ]
    }
   ],
   "source": [
    "print(roc_auc_score(y_t2,rfc.predict_proba(X_t2)[:,1]))"
   ]
  },
  {
   "cell_type": "code",
   "execution_count": 93,
   "id": "271c9518",
   "metadata": {
    "execution": {
     "iopub.execute_input": "2022-12-18T06:49:20.116957Z",
     "iopub.status.busy": "2022-12-18T06:49:20.116520Z",
     "iopub.status.idle": "2022-12-18T06:49:20.121861Z",
     "shell.execute_reply": "2022-12-18T06:49:20.120302Z"
    },
    "papermill": {
     "duration": 0.045947,
     "end_time": "2022-12-18T06:49:20.124126",
     "exception": false,
     "start_time": "2022-12-18T06:49:20.078179",
     "status": "completed"
    },
    "tags": []
   },
   "outputs": [],
   "source": [
    "#params_rfc=[{'criterion':['gini','entropy'],'max_depth':list(range(1,10)),'min_samples_split':[2,4,6,8,10]}]\n",
    "#grid_rfc= GridSearchCV(estimator=rfc,param_grid=params_rfc,cv=5, scoring='f1_macro')\n",
    "#grid_rfc.fit(X_t1,y_t1)"
   ]
  },
  {
   "cell_type": "code",
   "execution_count": 94,
   "id": "17d0d852",
   "metadata": {
    "execution": {
     "iopub.execute_input": "2022-12-18T06:49:20.199276Z",
     "iopub.status.busy": "2022-12-18T06:49:20.198553Z",
     "iopub.status.idle": "2022-12-18T06:49:20.203487Z",
     "shell.execute_reply": "2022-12-18T06:49:20.202578Z"
    },
    "papermill": {
     "duration": 0.045372,
     "end_time": "2022-12-18T06:49:20.205784",
     "exception": false,
     "start_time": "2022-12-18T06:49:20.160412",
     "status": "completed"
    },
    "tags": []
   },
   "outputs": [],
   "source": [
    "#grid_rfc.best_score_"
   ]
  },
  {
   "cell_type": "code",
   "execution_count": 95,
   "id": "a70799c9",
   "metadata": {
    "execution": {
     "iopub.execute_input": "2022-12-18T06:49:20.280312Z",
     "iopub.status.busy": "2022-12-18T06:49:20.279895Z",
     "iopub.status.idle": "2022-12-18T06:49:20.285134Z",
     "shell.execute_reply": "2022-12-18T06:49:20.284018Z"
    },
    "papermill": {
     "duration": 0.044932,
     "end_time": "2022-12-18T06:49:20.287394",
     "exception": false,
     "start_time": "2022-12-18T06:49:20.242462",
     "status": "completed"
    },
    "tags": []
   },
   "outputs": [],
   "source": [
    "#grid_rfc.best_params_"
   ]
  },
  {
   "cell_type": "code",
   "execution_count": 96,
   "id": "a86d44e6",
   "metadata": {
    "execution": {
     "iopub.execute_input": "2022-12-18T06:49:20.362487Z",
     "iopub.status.busy": "2022-12-18T06:49:20.362095Z",
     "iopub.status.idle": "2022-12-18T06:49:33.431907Z",
     "shell.execute_reply": "2022-12-18T06:49:33.430082Z"
    },
    "papermill": {
     "duration": 13.111438,
     "end_time": "2022-12-18T06:49:33.435295",
     "exception": false,
     "start_time": "2022-12-18T06:49:20.323857",
     "status": "completed"
    },
    "tags": []
   },
   "outputs": [
    {
     "name": "stdout",
     "output_type": "stream",
     "text": [
      "              precision    recall  f1-score   support\n",
      "\n",
      "          No       0.63      0.45      0.53      1105\n",
      "         Yes       0.64      0.78      0.70      1371\n",
      "\n",
      "    accuracy                           0.64      2476\n",
      "   macro avg       0.63      0.62      0.62      2476\n",
      "weighted avg       0.63      0.64      0.63      2476\n",
      "\n"
     ]
    }
   ],
   "source": [
    "rfc_1=RandomForestClassifier(n_estimators=860,criterion='gini',max_depth=14,min_samples_split=2,random_state=42, class_weight='balanced')\n",
    "rfc_1.fit(X_t1,y_t1)\n",
    "y_rfc1=rfc_1.predict(X_t2)\n",
    "print(classification_report(y_t2,y_rfc1))"
   ]
  },
  {
   "cell_type": "code",
   "execution_count": 97,
   "id": "84540c4b",
   "metadata": {
    "execution": {
     "iopub.execute_input": "2022-12-18T06:49:33.512760Z",
     "iopub.status.busy": "2022-12-18T06:49:33.512278Z",
     "iopub.status.idle": "2022-12-18T06:49:34.210041Z",
     "shell.execute_reply": "2022-12-18T06:49:34.208768Z"
    },
    "papermill": {
     "duration": 0.740777,
     "end_time": "2022-12-18T06:49:34.214322",
     "exception": false,
     "start_time": "2022-12-18T06:49:33.473545",
     "status": "completed"
    },
    "tags": []
   },
   "outputs": [
    {
     "name": "stdout",
     "output_type": "stream",
     "text": [
      "0.6705519305853969\n"
     ]
    }
   ],
   "source": [
    "print(roc_auc_score(y_t2,rfc_1.predict_proba(X_t2)[:,1]))"
   ]
  },
  {
   "cell_type": "code",
   "execution_count": 98,
   "id": "7f7e420f",
   "metadata": {
    "execution": {
     "iopub.execute_input": "2022-12-18T06:49:34.288742Z",
     "iopub.status.busy": "2022-12-18T06:49:34.288358Z",
     "iopub.status.idle": "2022-12-18T06:49:34.293403Z",
     "shell.execute_reply": "2022-12-18T06:49:34.292181Z"
    },
    "papermill": {
     "duration": 0.045177,
     "end_time": "2022-12-18T06:49:34.295644",
     "exception": false,
     "start_time": "2022-12-18T06:49:34.250467",
     "status": "completed"
    },
    "tags": []
   },
   "outputs": [],
   "source": [
    "from sklearn.metrics import plot_roc_curve"
   ]
  },
  {
   "cell_type": "code",
   "execution_count": 99,
   "id": "b9d98e03",
   "metadata": {
    "execution": {
     "iopub.execute_input": "2022-12-18T06:49:34.369630Z",
     "iopub.status.busy": "2022-12-18T06:49:34.368878Z",
     "iopub.status.idle": "2022-12-18T06:49:35.147449Z",
     "shell.execute_reply": "2022-12-18T06:49:35.146095Z"
    },
    "papermill": {
     "duration": 0.819102,
     "end_time": "2022-12-18T06:49:35.150160",
     "exception": false,
     "start_time": "2022-12-18T06:49:34.331058",
     "status": "completed"
    },
    "tags": []
   },
   "outputs": [
    {
     "name": "stderr",
     "output_type": "stream",
     "text": [
      "/opt/conda/lib/python3.7/site-packages/sklearn/utils/deprecation.py:87: FutureWarning: Function plot_roc_curve is deprecated; Function :func:`plot_roc_curve` is deprecated in 1.0 and will be removed in 1.2. Use one of the class methods: :meth:`sklearn.metric.RocCurveDisplay.from_predictions` or :meth:`sklearn.metric.RocCurveDisplay.from_estimator`.\n",
      "  warnings.warn(msg, category=FutureWarning)\n"
     ]
    },
    {
     "data": {
      "image/png": "[encoded data removed]",
      "text/plain": [
       "<Figure size 432x288 with 1 Axes>"
      ]
     },
     "metadata": {
      "needs_background": "light"
     },
     "output_type": "display_data"
    }
   ],
   "source": [
    "plot_roc_curve(rfc_1,X_t2,y_t2)\n",
    "plt.show()"
   ]
  },
  {
   "cell_type": "markdown",
   "id": "28faed5f",
   "metadata": {
    "papermill": {
     "duration": 0.037044,
     "end_time": "2022-12-18T06:49:35.223683",
     "exception": false,
     "start_time": "2022-12-18T06:49:35.186639",
     "status": "completed"
    },
    "tags": []
   },
   "source": [
    "7) BAGGING CLASSIFIER"
   ]
  },
  {
   "cell_type": "code",
   "execution_count": 100,
   "id": "075c7085",
   "metadata": {
    "execution": {
     "iopub.execute_input": "2022-12-18T06:49:35.301134Z",
     "iopub.status.busy": "2022-12-18T06:49:35.300745Z",
     "iopub.status.idle": "2022-12-18T06:49:36.391639Z",
     "shell.execute_reply": "2022-12-18T06:49:36.390471Z"
    },
    "papermill": {
     "duration": 1.133915,
     "end_time": "2022-12-18T06:49:36.394677",
     "exception": false,
     "start_time": "2022-12-18T06:49:35.260762",
     "status": "completed"
    },
    "tags": []
   },
   "outputs": [
    {
     "name": "stdout",
     "output_type": "stream",
     "text": [
      "              precision    recall  f1-score   support\n",
      "\n",
      "          No       0.53      0.54      0.53      1105\n",
      "         Yes       0.62      0.61      0.62      1371\n",
      "\n",
      "    accuracy                           0.58      2476\n",
      "   macro avg       0.58      0.58      0.58      2476\n",
      "weighted avg       0.58      0.58      0.58      2476\n",
      "\n"
     ]
    }
   ],
   "source": [
    "bc=BaggingClassifier(random_state=42)\n",
    "bc.fit(X_t1,y_t1)\n",
    "y_bc=bc.predict(X_t2)\n",
    "print(classification_report(y_t2,y_bc))"
   ]
  },
  {
   "cell_type": "code",
   "execution_count": 101,
   "id": "994d9ff2",
   "metadata": {
    "execution": {
     "iopub.execute_input": "2022-12-18T06:49:36.470826Z",
     "iopub.status.busy": "2022-12-18T06:49:36.470242Z",
     "iopub.status.idle": "2022-12-18T06:49:36.497881Z",
     "shell.execute_reply": "2022-12-18T06:49:36.496822Z"
    },
    "papermill": {
     "duration": 0.068911,
     "end_time": "2022-12-18T06:49:36.500250",
     "exception": false,
     "start_time": "2022-12-18T06:49:36.431339",
     "status": "completed"
    },
    "tags": []
   },
   "outputs": [
    {
     "name": "stdout",
     "output_type": "stream",
     "text": [
      "0.601986857695443\n"
     ]
    }
   ],
   "source": [
    "print(roc_auc_score(y_t2,bc.predict_proba(X_t2)[:,1]))"
   ]
  },
  {
   "cell_type": "code",
   "execution_count": 102,
   "id": "dfc7d45b",
   "metadata": {
    "execution": {
     "iopub.execute_input": "2022-12-18T06:49:36.576322Z",
     "iopub.status.busy": "2022-12-18T06:49:36.575691Z",
     "iopub.status.idle": "2022-12-18T06:49:36.579606Z",
     "shell.execute_reply": "2022-12-18T06:49:36.578591Z"
    },
    "papermill": {
     "duration": 0.04492,
     "end_time": "2022-12-18T06:49:36.581832",
     "exception": false,
     "start_time": "2022-12-18T06:49:36.536912",
     "status": "completed"
    },
    "tags": []
   },
   "outputs": [],
   "source": [
    "#params_bc=[{'n_estimators':[100,300,600]}]\n",
    "#grid_bc=GridSearchCV(estimator=bc, param_grid=params_bc,cv=5, scoring='f1_macro')\n",
    "#grid_bc.fit(X_t1,y_t1)"
   ]
  },
  {
   "cell_type": "code",
   "execution_count": 103,
   "id": "423f8f52",
   "metadata": {
    "execution": {
     "iopub.execute_input": "2022-12-18T06:49:36.657329Z",
     "iopub.status.busy": "2022-12-18T06:49:36.656926Z",
     "iopub.status.idle": "2022-12-18T06:49:36.661607Z",
     "shell.execute_reply": "2022-12-18T06:49:36.660583Z"
    },
    "papermill": {
     "duration": 0.045436,
     "end_time": "2022-12-18T06:49:36.663815",
     "exception": false,
     "start_time": "2022-12-18T06:49:36.618379",
     "status": "completed"
    },
    "tags": []
   },
   "outputs": [],
   "source": [
    "#grid_bc.best_score_"
   ]
  },
  {
   "cell_type": "code",
   "execution_count": 104,
   "id": "dc50c533",
   "metadata": {
    "execution": {
     "iopub.execute_input": "2022-12-18T06:49:36.739192Z",
     "iopub.status.busy": "2022-12-18T06:49:36.738568Z",
     "iopub.status.idle": "2022-12-18T06:49:36.742175Z",
     "shell.execute_reply": "2022-12-18T06:49:36.741474Z"
    },
    "papermill": {
     "duration": 0.043781,
     "end_time": "2022-12-18T06:49:36.744184",
     "exception": false,
     "start_time": "2022-12-18T06:49:36.700403",
     "status": "completed"
    },
    "tags": []
   },
   "outputs": [],
   "source": [
    "#grid_bc.best_params_"
   ]
  },
  {
   "cell_type": "code",
   "execution_count": 105,
   "id": "f1fcd0ec",
   "metadata": {
    "execution": {
     "iopub.execute_input": "2022-12-18T06:49:36.822393Z",
     "iopub.status.busy": "2022-12-18T06:49:36.821966Z",
     "iopub.status.idle": "2022-12-18T06:50:55.141697Z",
     "shell.execute_reply": "2022-12-18T06:50:55.139846Z"
    },
    "papermill": {
     "duration": 78.417724,
     "end_time": "2022-12-18T06:50:55.199278",
     "exception": false,
     "start_time": "2022-12-18T06:49:36.781554",
     "status": "completed"
    },
    "tags": []
   },
   "outputs": [
    {
     "name": "stdout",
     "output_type": "stream",
     "text": [
      "              precision    recall  f1-score   support\n",
      "\n",
      "          No       0.62      0.43      0.51      1105\n",
      "         Yes       0.63      0.78      0.70      1371\n",
      "\n",
      "    accuracy                           0.63      2476\n",
      "   macro avg       0.62      0.61      0.60      2476\n",
      "weighted avg       0.62      0.63      0.61      2476\n",
      "\n"
     ]
    }
   ],
   "source": [
    "bc1=BaggingClassifier(n_estimators=800,random_state=42)\n",
    "bc1.fit(X_t1,y_t1)\n",
    "y_bc1=bc1.predict(X_t2)\n",
    "print(classification_report(y_t2,y_bc1))"
   ]
  },
  {
   "cell_type": "code",
   "execution_count": 106,
   "id": "73f25d3d",
   "metadata": {
    "execution": {
     "iopub.execute_input": "2022-12-18T06:50:55.279855Z",
     "iopub.status.busy": "2022-12-18T06:50:55.279446Z",
     "iopub.status.idle": "2022-12-18T06:50:56.523839Z",
     "shell.execute_reply": "2022-12-18T06:50:56.522349Z"
    },
    "papermill": {
     "duration": 1.286331,
     "end_time": "2022-12-18T06:50:56.526525",
     "exception": false,
     "start_time": "2022-12-18T06:50:55.240194",
     "status": "completed"
    },
    "tags": []
   },
   "outputs": [
    {
     "name": "stdout",
     "output_type": "stream",
     "text": [
      "0.6610117132192046\n"
     ]
    }
   ],
   "source": [
    "print(roc_auc_score(y_t2,bc1.predict_proba(X_t2)[:,1]))"
   ]
  },
  {
   "cell_type": "markdown",
   "id": "8f7ab9b3",
   "metadata": {
    "papermill": {
     "duration": 0.036949,
     "end_time": "2022-12-18T06:50:56.600914",
     "exception": false,
     "start_time": "2022-12-18T06:50:56.563965",
     "status": "completed"
    },
    "tags": []
   },
   "source": [
    "8) GRADIENT BOOSTING CLASSIFIER"
   ]
  },
  {
   "cell_type": "code",
   "execution_count": 107,
   "id": "c55c7522",
   "metadata": {
    "execution": {
     "iopub.execute_input": "2022-12-18T06:50:56.678347Z",
     "iopub.status.busy": "2022-12-18T06:50:56.677373Z",
     "iopub.status.idle": "2022-12-18T06:50:59.304432Z",
     "shell.execute_reply": "2022-12-18T06:50:59.302610Z"
    },
    "papermill": {
     "duration": 2.6697,
     "end_time": "2022-12-18T06:50:59.307945",
     "exception": false,
     "start_time": "2022-12-18T06:50:56.638245",
     "status": "completed"
    },
    "tags": []
   },
   "outputs": [
    {
     "name": "stdout",
     "output_type": "stream",
     "text": [
      "              precision    recall  f1-score   support\n",
      "\n",
      "          No       0.63      0.39      0.48      1105\n",
      "         Yes       0.62      0.81      0.71      1371\n",
      "\n",
      "    accuracy                           0.63      2476\n",
      "   macro avg       0.63      0.60      0.59      2476\n",
      "weighted avg       0.63      0.63      0.61      2476\n",
      "\n"
     ]
    }
   ],
   "source": [
    "gb=GradientBoostingClassifier(random_state=42)\n",
    "gb.fit(X_t1,y_t1)\n",
    "y_gb=gb.predict(X_t2)\n",
    "print(classification_report(y_t2,y_gb))"
   ]
  },
  {
   "cell_type": "code",
   "execution_count": 108,
   "id": "54b79cf7",
   "metadata": {
    "execution": {
     "iopub.execute_input": "2022-12-18T06:50:59.388579Z",
     "iopub.status.busy": "2022-12-18T06:50:59.387250Z",
     "iopub.status.idle": "2022-12-18T06:50:59.408503Z",
     "shell.execute_reply": "2022-12-18T06:50:59.407454Z"
    },
    "papermill": {
     "duration": 0.063544,
     "end_time": "2022-12-18T06:50:59.411296",
     "exception": false,
     "start_time": "2022-12-18T06:50:59.347752",
     "status": "completed"
    },
    "tags": []
   },
   "outputs": [
    {
     "name": "stdout",
     "output_type": "stream",
     "text": [
      "0.6537342693347327\n"
     ]
    }
   ],
   "source": [
    "print(roc_auc_score(y_t2,gb.predict_proba(X_t2)[:,1]))"
   ]
  },
  {
   "cell_type": "code",
   "execution_count": 109,
   "id": "1685d8ef",
   "metadata": {
    "execution": {
     "iopub.execute_input": "2022-12-18T06:50:59.491733Z",
     "iopub.status.busy": "2022-12-18T06:50:59.490091Z",
     "iopub.status.idle": "2022-12-18T06:50:59.495804Z",
     "shell.execute_reply": "2022-12-18T06:50:59.494861Z"
    },
    "papermill": {
     "duration": 0.047601,
     "end_time": "2022-12-18T06:50:59.498028",
     "exception": false,
     "start_time": "2022-12-18T06:50:59.450427",
     "status": "completed"
    },
    "tags": []
   },
   "outputs": [],
   "source": [
    "#params_gb=[{'learning_rate':[0.1,0.01,0.001], 'max_depth':list(range(1,10))}]\n",
    "#grid_gb=GridSearchCV(estimator=gb,param_grid=params_gb, cv=5, scoring='f1_macro') \n",
    "#grid_gb.fit(X_t1,y_t1)"
   ]
  },
  {
   "cell_type": "code",
   "execution_count": 110,
   "id": "99ef3471",
   "metadata": {
    "execution": {
     "iopub.execute_input": "2022-12-18T06:50:59.573580Z",
     "iopub.status.busy": "2022-12-18T06:50:59.573035Z",
     "iopub.status.idle": "2022-12-18T06:50:59.578891Z",
     "shell.execute_reply": "2022-12-18T06:50:59.577538Z"
    },
    "papermill": {
     "duration": 0.046629,
     "end_time": "2022-12-18T06:50:59.581397",
     "exception": false,
     "start_time": "2022-12-18T06:50:59.534768",
     "status": "completed"
    },
    "tags": []
   },
   "outputs": [],
   "source": [
    "#grid_gb.best_score_"
   ]
  },
  {
   "cell_type": "code",
   "execution_count": 111,
   "id": "63a8b54f",
   "metadata": {
    "execution": {
     "iopub.execute_input": "2022-12-18T06:50:59.657117Z",
     "iopub.status.busy": "2022-12-18T06:50:59.656655Z",
     "iopub.status.idle": "2022-12-18T06:50:59.661765Z",
     "shell.execute_reply": "2022-12-18T06:50:59.660405Z"
    },
    "papermill": {
     "duration": 0.045648,
     "end_time": "2022-12-18T06:50:59.664070",
     "exception": false,
     "start_time": "2022-12-18T06:50:59.618422",
     "status": "completed"
    },
    "tags": []
   },
   "outputs": [],
   "source": [
    "#grid_gb.best_params_"
   ]
  },
  {
   "cell_type": "code",
   "execution_count": 112,
   "id": "eab2ff70",
   "metadata": {
    "execution": {
     "iopub.execute_input": "2022-12-18T06:50:59.741251Z",
     "iopub.status.busy": "2022-12-18T06:50:59.740781Z",
     "iopub.status.idle": "2022-12-18T06:51:03.802152Z",
     "shell.execute_reply": "2022-12-18T06:51:03.799985Z"
    },
    "papermill": {
     "duration": 4.104495,
     "end_time": "2022-12-18T06:51:03.805301",
     "exception": false,
     "start_time": "2022-12-18T06:50:59.700806",
     "status": "completed"
    },
    "tags": []
   },
   "outputs": [
    {
     "name": "stdout",
     "output_type": "stream",
     "text": [
      "              precision    recall  f1-score   support\n",
      "\n",
      "          No       0.60      0.42      0.50      1105\n",
      "         Yes       0.63      0.78      0.69      1371\n",
      "\n",
      "    accuracy                           0.62      2476\n",
      "   macro avg       0.61      0.60      0.59      2476\n",
      "weighted avg       0.62      0.62      0.61      2476\n",
      "\n"
     ]
    }
   ],
   "source": [
    "gb1=GradientBoostingClassifier(learning_rate=0.1,max_depth=5,min_samples_leaf=35,random_state=42)\n",
    "gb1.fit(X_t1,y_t1)\n",
    "y_gb1=gb1.predict(X_t2)\n",
    "print(classification_report(y_t2,y_gb1))"
   ]
  },
  {
   "cell_type": "code",
   "execution_count": 113,
   "id": "78f3b12f",
   "metadata": {
    "execution": {
     "iopub.execute_input": "2022-12-18T06:51:03.887718Z",
     "iopub.status.busy": "2022-12-18T06:51:03.886939Z",
     "iopub.status.idle": "2022-12-18T06:51:03.909831Z",
     "shell.execute_reply": "2022-12-18T06:51:03.908436Z"
    },
    "papermill": {
     "duration": 0.066382,
     "end_time": "2022-12-18T06:51:03.912562",
     "exception": false,
     "start_time": "2022-12-18T06:51:03.846180",
     "status": "completed"
    },
    "tags": []
   },
   "outputs": [
    {
     "name": "stdout",
     "output_type": "stream",
     "text": [
      "0.6691650907122654\n"
     ]
    }
   ],
   "source": [
    "print(roc_auc_score(y_t2,gb1.predict_proba(X_t2)[:,1]))"
   ]
  },
  {
   "cell_type": "markdown",
   "id": "7bf7e523",
   "metadata": {
    "papermill": {
     "duration": 0.037635,
     "end_time": "2022-12-18T06:51:03.989048",
     "exception": false,
     "start_time": "2022-12-18T06:51:03.951413",
     "status": "completed"
    },
    "tags": []
   },
   "source": [
    "9) ADABOOST CLASSIFIER"
   ]
  },
  {
   "cell_type": "code",
   "execution_count": 114,
   "id": "1ea2cc66",
   "metadata": {
    "execution": {
     "iopub.execute_input": "2022-12-18T06:51:04.071228Z",
     "iopub.status.busy": "2022-12-18T06:51:04.070244Z",
     "iopub.status.idle": "2022-12-18T06:51:04.075420Z",
     "shell.execute_reply": "2022-12-18T06:51:04.074499Z"
    },
    "papermill": {
     "duration": 0.047556,
     "end_time": "2022-12-18T06:51:04.077731",
     "exception": false,
     "start_time": "2022-12-18T06:51:04.030175",
     "status": "completed"
    },
    "tags": []
   },
   "outputs": [],
   "source": [
    "#ada=AdaBoostClassifier(random_state=42)\n",
    "#ada.fit(X_t1,y_t1)\n",
    "#y_ada=ada.predict(X_t2)\n",
    "#print(classification_report(y_t2,y_ada))"
   ]
  },
  {
   "cell_type": "code",
   "execution_count": 115,
   "id": "0acf39f3",
   "metadata": {
    "execution": {
     "iopub.execute_input": "2022-12-18T06:51:04.157061Z",
     "iopub.status.busy": "2022-12-18T06:51:04.156624Z",
     "iopub.status.idle": "2022-12-18T06:51:04.162400Z",
     "shell.execute_reply": "2022-12-18T06:51:04.160985Z"
    },
    "papermill": {
     "duration": 0.047784,
     "end_time": "2022-12-18T06:51:04.164821",
     "exception": false,
     "start_time": "2022-12-18T06:51:04.117037",
     "status": "completed"
    },
    "tags": []
   },
   "outputs": [],
   "source": [
    "#print(roc_auc_score(y_t2,ada.predict_proba(X_t2)[:,1]))"
   ]
  },
  {
   "cell_type": "code",
   "execution_count": 116,
   "id": "16d80c84",
   "metadata": {
    "execution": {
     "iopub.execute_input": "2022-12-18T06:51:04.243081Z",
     "iopub.status.busy": "2022-12-18T06:51:04.242640Z",
     "iopub.status.idle": "2022-12-18T06:51:04.247409Z",
     "shell.execute_reply": "2022-12-18T06:51:04.246252Z"
    },
    "papermill": {
     "duration": 0.047569,
     "end_time": "2022-12-18T06:51:04.250311",
     "exception": false,
     "start_time": "2022-12-18T06:51:04.202742",
     "status": "completed"
    },
    "tags": []
   },
   "outputs": [],
   "source": [
    "#params_ada=[{'learning_rate':[1,0.1,0.01,0.001]}]\n",
    "#grid_a=GridSearchCV(estimator=ada,param_grid=params_ada,cv=5, scoring='f1_macro')\n",
    "#grid_a.fit(X_t1,y_t1)"
   ]
  },
  {
   "cell_type": "code",
   "execution_count": 117,
   "id": "c5532d35",
   "metadata": {
    "execution": {
     "iopub.execute_input": "2022-12-18T06:51:04.329324Z",
     "iopub.status.busy": "2022-12-18T06:51:04.328291Z",
     "iopub.status.idle": "2022-12-18T06:51:04.333595Z",
     "shell.execute_reply": "2022-12-18T06:51:04.332449Z"
    },
    "papermill": {
     "duration": 0.046964,
     "end_time": "2022-12-18T06:51:04.335925",
     "exception": false,
     "start_time": "2022-12-18T06:51:04.288961",
     "status": "completed"
    },
    "tags": []
   },
   "outputs": [],
   "source": [
    "#grid_a.best_score_"
   ]
  },
  {
   "cell_type": "code",
   "execution_count": 118,
   "id": "12b756de",
   "metadata": {
    "execution": {
     "iopub.execute_input": "2022-12-18T06:51:04.415338Z",
     "iopub.status.busy": "2022-12-18T06:51:04.414832Z",
     "iopub.status.idle": "2022-12-18T06:51:04.420090Z",
     "shell.execute_reply": "2022-12-18T06:51:04.419090Z"
    },
    "papermill": {
     "duration": 0.048214,
     "end_time": "2022-12-18T06:51:04.422301",
     "exception": false,
     "start_time": "2022-12-18T06:51:04.374087",
     "status": "completed"
    },
    "tags": []
   },
   "outputs": [],
   "source": [
    "#grid_a.best_params_"
   ]
  },
  {
   "cell_type": "code",
   "execution_count": 119,
   "id": "27336f2e",
   "metadata": {
    "execution": {
     "iopub.execute_input": "2022-12-18T06:51:04.504561Z",
     "iopub.status.busy": "2022-12-18T06:51:04.504074Z",
     "iopub.status.idle": "2022-12-18T06:51:04.509489Z",
     "shell.execute_reply": "2022-12-18T06:51:04.508131Z"
    },
    "papermill": {
     "duration": 0.049716,
     "end_time": "2022-12-18T06:51:04.512660",
     "exception": false,
     "start_time": "2022-12-18T06:51:04.462944",
     "status": "completed"
    },
    "tags": []
   },
   "outputs": [],
   "source": [
    "#ada1=AdaBoostClassifier(n_estimators=100,learning_rate=1,random_state=42)\n",
    "#ada1.fit(X_t1,y_t1)\n",
    "#y_ada1=ada1.predict(X_t2)\n",
    "#print(classification_report(y_t2,y_ada1))"
   ]
  },
  {
   "cell_type": "code",
   "execution_count": 120,
   "id": "e5d28790",
   "metadata": {
    "execution": {
     "iopub.execute_input": "2022-12-18T06:51:04.589939Z",
     "iopub.status.busy": "2022-12-18T06:51:04.589459Z",
     "iopub.status.idle": "2022-12-18T06:51:04.595641Z",
     "shell.execute_reply": "2022-12-18T06:51:04.594110Z"
    },
    "papermill": {
     "duration": 0.048541,
     "end_time": "2022-12-18T06:51:04.598075",
     "exception": false,
     "start_time": "2022-12-18T06:51:04.549534",
     "status": "completed"
    },
    "tags": []
   },
   "outputs": [],
   "source": [
    "#print(roc_auc_score(y_t2,ada1.predict_proba(X_t2)[:,1]))"
   ]
  },
  {
   "cell_type": "markdown",
   "id": "ca9b9818",
   "metadata": {
    "papermill": {
     "duration": 0.037271,
     "end_time": "2022-12-18T06:51:04.673406",
     "exception": false,
     "start_time": "2022-12-18T06:51:04.636135",
     "status": "completed"
    },
    "tags": []
   },
   "source": [
    "10)XGB CLASSIFIER"
   ]
  },
  {
   "cell_type": "code",
   "execution_count": 121,
   "id": "a53fc512",
   "metadata": {
    "execution": {
     "iopub.execute_input": "2022-12-18T06:51:04.752429Z",
     "iopub.status.busy": "2022-12-18T06:51:04.751933Z",
     "iopub.status.idle": "2022-12-18T06:51:04.756706Z",
     "shell.execute_reply": "2022-12-18T06:51:04.755861Z"
    },
    "papermill": {
     "duration": 0.0473,
     "end_time": "2022-12-18T06:51:04.758866",
     "exception": false,
     "start_time": "2022-12-18T06:51:04.711566",
     "status": "completed"
    },
    "tags": []
   },
   "outputs": [],
   "source": [
    "xg=xgb.XGBClassifier()\n"
   ]
  },
  {
   "cell_type": "code",
   "execution_count": 122,
   "id": "97668eab",
   "metadata": {
    "execution": {
     "iopub.execute_input": "2022-12-18T06:51:04.837190Z",
     "iopub.status.busy": "2022-12-18T06:51:04.836797Z",
     "iopub.status.idle": "2022-12-18T06:51:04.846008Z",
     "shell.execute_reply": "2022-12-18T06:51:04.844798Z"
    },
    "papermill": {
     "duration": 0.050877,
     "end_time": "2022-12-18T06:51:04.848440",
     "exception": false,
     "start_time": "2022-12-18T06:51:04.797563",
     "status": "completed"
    },
    "tags": []
   },
   "outputs": [],
   "source": [
    "from sklearn.preprocessing import LabelEncoder\n",
    "l= LabelEncoder()\n",
    "y_label_t1=l.fit_transform(y_t1)\n",
    "y_label_t2= l.transform(y_t2)"
   ]
  },
  {
   "cell_type": "code",
   "execution_count": 123,
   "id": "21956955",
   "metadata": {
    "execution": {
     "iopub.execute_input": "2022-12-18T06:51:04.926352Z",
     "iopub.status.busy": "2022-12-18T06:51:04.925920Z",
     "iopub.status.idle": "2022-12-18T06:51:08.277449Z",
     "shell.execute_reply": "2022-12-18T06:51:08.275559Z"
    },
    "papermill": {
     "duration": 3.395059,
     "end_time": "2022-12-18T06:51:08.281299",
     "exception": false,
     "start_time": "2022-12-18T06:51:04.886240",
     "status": "completed"
    },
    "tags": []
   },
   "outputs": [
    {
     "name": "stdout",
     "output_type": "stream",
     "text": [
      "              precision    recall  f1-score   support\n",
      "\n",
      "           0       0.58      0.47      0.52      1105\n",
      "           1       0.63      0.72      0.67      1371\n",
      "\n",
      "    accuracy                           0.61      2476\n",
      "   macro avg       0.60      0.60      0.60      2476\n",
      "weighted avg       0.61      0.61      0.60      2476\n",
      "\n"
     ]
    }
   ],
   "source": [
    "xg.fit(X_t1,y_label_t1)\n",
    "y_xg=xg.predict(X_t2)\n",
    "print(classification_report(y_label_t2,y_xg))"
   ]
  },
  {
   "cell_type": "code",
   "execution_count": 124,
   "id": "d39235c6",
   "metadata": {
    "execution": {
     "iopub.execute_input": "2022-12-18T06:51:08.359236Z",
     "iopub.status.busy": "2022-12-18T06:51:08.358063Z",
     "iopub.status.idle": "2022-12-18T06:51:08.384750Z",
     "shell.execute_reply": "2022-12-18T06:51:08.383331Z"
    },
    "papermill": {
     "duration": 0.069884,
     "end_time": "2022-12-18T06:51:08.388726",
     "exception": false,
     "start_time": "2022-12-18T06:51:08.318842",
     "status": "completed"
    },
    "tags": []
   },
   "outputs": [
    {
     "name": "stdout",
     "output_type": "stream",
     "text": [
      "0.6444217815050612\n"
     ]
    }
   ],
   "source": [
    "print(roc_auc_score(y_t2,xg.predict_proba(X_t2)[:,1]))"
   ]
  },
  {
   "cell_type": "code",
   "execution_count": 125,
   "id": "7356bbb4",
   "metadata": {
    "execution": {
     "iopub.execute_input": "2022-12-18T06:51:08.469316Z",
     "iopub.status.busy": "2022-12-18T06:51:08.468077Z",
     "iopub.status.idle": "2022-12-18T06:51:08.473601Z",
     "shell.execute_reply": "2022-12-18T06:51:08.472527Z"
    },
    "papermill": {
     "duration": 0.047813,
     "end_time": "2022-12-18T06:51:08.476307",
     "exception": false,
     "start_time": "2022-12-18T06:51:08.428494",
     "status": "completed"
    },
    "tags": []
   },
   "outputs": [],
   "source": [
    "#params_xg= [{'max_depth':list(range(1,10)),'learning_rate':[0.1,1,0.01]}]\n",
    "#grid_xg=GridSearchCV(estimator=xg, param_grid=params_xg, cv=5, scoring='f1_macro')\n",
    "#grid_xg.fit(X_t1,y_label_t1)"
   ]
  },
  {
   "cell_type": "code",
   "execution_count": 126,
   "id": "62b99e89",
   "metadata": {
    "execution": {
     "iopub.execute_input": "2022-12-18T06:51:08.556456Z",
     "iopub.status.busy": "2022-12-18T06:51:08.555635Z",
     "iopub.status.idle": "2022-12-18T06:51:08.560563Z",
     "shell.execute_reply": "2022-12-18T06:51:08.559788Z"
    },
    "papermill": {
     "duration": 0.048542,
     "end_time": "2022-12-18T06:51:08.562920",
     "exception": false,
     "start_time": "2022-12-18T06:51:08.514378",
     "status": "completed"
    },
    "tags": []
   },
   "outputs": [],
   "source": [
    "#grid_xg.best_score_"
   ]
  },
  {
   "cell_type": "code",
   "execution_count": 127,
   "id": "ae72c5f9",
   "metadata": {
    "execution": {
     "iopub.execute_input": "2022-12-18T06:51:08.642499Z",
     "iopub.status.busy": "2022-12-18T06:51:08.641644Z",
     "iopub.status.idle": "2022-12-18T06:51:08.646695Z",
     "shell.execute_reply": "2022-12-18T06:51:08.645867Z"
    },
    "papermill": {
     "duration": 0.047166,
     "end_time": "2022-12-18T06:51:08.648951",
     "exception": false,
     "start_time": "2022-12-18T06:51:08.601785",
     "status": "completed"
    },
    "tags": []
   },
   "outputs": [],
   "source": [
    "#grid_xg.best_params_"
   ]
  },
  {
   "cell_type": "code",
   "execution_count": 128,
   "id": "f47f5c20",
   "metadata": {
    "execution": {
     "iopub.execute_input": "2022-12-18T06:51:08.727419Z",
     "iopub.status.busy": "2022-12-18T06:51:08.726590Z",
     "iopub.status.idle": "2022-12-18T06:51:10.159870Z",
     "shell.execute_reply": "2022-12-18T06:51:10.157893Z"
    },
    "papermill": {
     "duration": 1.47796,
     "end_time": "2022-12-18T06:51:10.164955",
     "exception": false,
     "start_time": "2022-12-18T06:51:08.686995",
     "status": "completed"
    },
    "tags": []
   },
   "outputs": [
    {
     "name": "stdout",
     "output_type": "stream",
     "text": [
      "              precision    recall  f1-score   support\n",
      "\n",
      "           0       0.64      0.43      0.52      1105\n",
      "           1       0.64      0.81      0.71      1371\n",
      "\n",
      "    accuracy                           0.64      2476\n",
      "   macro avg       0.64      0.62      0.62      2476\n",
      "weighted avg       0.64      0.64      0.63      2476\n",
      "\n"
     ]
    }
   ],
   "source": [
    "xg1=XGBClassifier(learning_rate=0.1,max_depth=5,colsample_bytree=0.5,reg_alpha=0.8,random_state=42)\n",
    "xg1.fit(X_t1,y_label_t1)\n",
    "y_xg1=xg1.predict(X_t2)\n",
    "print(classification_report(y_label_t2,y_xg1))"
   ]
  },
  {
   "cell_type": "code",
   "execution_count": 129,
   "id": "8385c807",
   "metadata": {
    "execution": {
     "iopub.execute_input": "2022-12-18T06:51:10.245041Z",
     "iopub.status.busy": "2022-12-18T06:51:10.244404Z",
     "iopub.status.idle": "2022-12-18T06:51:10.272830Z",
     "shell.execute_reply": "2022-12-18T06:51:10.270427Z"
    },
    "papermill": {
     "duration": 0.07254,
     "end_time": "2022-12-18T06:51:10.276567",
     "exception": false,
     "start_time": "2022-12-18T06:51:10.204027",
     "status": "completed"
    },
    "tags": []
   },
   "outputs": [
    {
     "name": "stdout",
     "output_type": "stream",
     "text": [
      "0.6670211326409035\n"
     ]
    }
   ],
   "source": [
    "print(roc_auc_score(y_t2,xg1.predict_proba(X_t2)[:,1]))"
   ]
  },
  {
   "cell_type": "markdown",
   "id": "21ecdf07",
   "metadata": {
    "papermill": {
     "duration": 0.039724,
     "end_time": "2022-12-18T06:51:10.357736",
     "exception": false,
     "start_time": "2022-12-18T06:51:10.318012",
     "status": "completed"
    },
    "tags": []
   },
   "source": [
    "11) MLP CLASSIFIER"
   ]
  },
  {
   "cell_type": "code",
   "execution_count": 130,
   "id": "25370b21",
   "metadata": {
    "execution": {
     "iopub.execute_input": "2022-12-18T06:51:10.440059Z",
     "iopub.status.busy": "2022-12-18T06:51:10.439663Z",
     "iopub.status.idle": "2022-12-18T06:51:10.444827Z",
     "shell.execute_reply": "2022-12-18T06:51:10.443598Z"
    },
    "papermill": {
     "duration": 0.049424,
     "end_time": "2022-12-18T06:51:10.447417",
     "exception": false,
     "start_time": "2022-12-18T06:51:10.397993",
     "status": "completed"
    },
    "tags": []
   },
   "outputs": [],
   "source": [
    "#mlp=MLPClassifier(random_state=42)\n",
    "#mlp.fit(X_t1,y_t1)\n",
    "#y_mlp=mlp.predict(X_t2)\n",
    "#print(classification_report(y_t2,y_mlp))"
   ]
  },
  {
   "cell_type": "code",
   "execution_count": 131,
   "id": "d2ab1c91",
   "metadata": {
    "execution": {
     "iopub.execute_input": "2022-12-18T06:51:10.528035Z",
     "iopub.status.busy": "2022-12-18T06:51:10.527610Z",
     "iopub.status.idle": "2022-12-18T06:51:10.532265Z",
     "shell.execute_reply": "2022-12-18T06:51:10.531060Z"
    },
    "papermill": {
     "duration": 0.04881,
     "end_time": "2022-12-18T06:51:10.534570",
     "exception": false,
     "start_time": "2022-12-18T06:51:10.485760",
     "status": "completed"
    },
    "tags": []
   },
   "outputs": [],
   "source": [
    "#print(roc_auc_score(y_t2,mlp.predict_proba(X_t2)[:,1]))"
   ]
  },
  {
   "cell_type": "code",
   "execution_count": 132,
   "id": "d149cca3",
   "metadata": {
    "execution": {
     "iopub.execute_input": "2022-12-18T06:51:10.614996Z",
     "iopub.status.busy": "2022-12-18T06:51:10.614549Z",
     "iopub.status.idle": "2022-12-18T06:51:10.619738Z",
     "shell.execute_reply": "2022-12-18T06:51:10.618276Z"
    },
    "papermill": {
     "duration": 0.048726,
     "end_time": "2022-12-18T06:51:10.622176",
     "exception": false,
     "start_time": "2022-12-18T06:51:10.573450",
     "status": "completed"
    },
    "tags": []
   },
   "outputs": [],
   "source": [
    "#params_mlp=[{'alpha':[0.01,0.0001,0.001],'learning_rate':['constant','invscaling']}]\n",
    "#grid_mlp=GridSearchCV(estimator=mlp, param_grid=params_mlp, cv=5, scoring='f1_macro')\n",
    "#grid_mlp.fit(X_t1,y_t1)"
   ]
  },
  {
   "cell_type": "code",
   "execution_count": 133,
   "id": "d9abe868",
   "metadata": {
    "execution": {
     "iopub.execute_input": "2022-12-18T06:51:10.705445Z",
     "iopub.status.busy": "2022-12-18T06:51:10.704052Z",
     "iopub.status.idle": "2022-12-18T06:51:10.709525Z",
     "shell.execute_reply": "2022-12-18T06:51:10.708377Z"
    },
    "papermill": {
     "duration": 0.049897,
     "end_time": "2022-12-18T06:51:10.712033",
     "exception": false,
     "start_time": "2022-12-18T06:51:10.662136",
     "status": "completed"
    },
    "tags": []
   },
   "outputs": [],
   "source": [
    "#grid_mlp.best_score_"
   ]
  },
  {
   "cell_type": "code",
   "execution_count": 134,
   "id": "888b81d1",
   "metadata": {
    "execution": {
     "iopub.execute_input": "2022-12-18T06:51:10.792648Z",
     "iopub.status.busy": "2022-12-18T06:51:10.791223Z",
     "iopub.status.idle": "2022-12-18T06:51:10.797161Z",
     "shell.execute_reply": "2022-12-18T06:51:10.795770Z"
    },
    "papermill": {
     "duration": 0.048387,
     "end_time": "2022-12-18T06:51:10.799702",
     "exception": false,
     "start_time": "2022-12-18T06:51:10.751315",
     "status": "completed"
    },
    "tags": []
   },
   "outputs": [],
   "source": [
    "#grid_mlp.best_params_"
   ]
  },
  {
   "cell_type": "code",
   "execution_count": 135,
   "id": "952523e6",
   "metadata": {
    "execution": {
     "iopub.execute_input": "2022-12-18T06:51:10.880190Z",
     "iopub.status.busy": "2022-12-18T06:51:10.878791Z",
     "iopub.status.idle": "2022-12-18T06:51:10.885139Z",
     "shell.execute_reply": "2022-12-18T06:51:10.884031Z"
    },
    "papermill": {
     "duration": 0.049343,
     "end_time": "2022-12-18T06:51:10.887670",
     "exception": false,
     "start_time": "2022-12-18T06:51:10.838327",
     "status": "completed"
    },
    "tags": []
   },
   "outputs": [],
   "source": [
    "#mlp1= MLPClassifier(hidden_layer_sizes=(25,),alpha=0.01, learning_rate='constant',random_state=42)\n",
    "#mlp1.fit(X_t1,y_t1)\n",
    "#y_mlp1=mlp1.predict(X_t2)\n",
    "#print(classification_report(y_t2,y_mlp1))"
   ]
  },
  {
   "cell_type": "code",
   "execution_count": 136,
   "id": "0d4ca8fa",
   "metadata": {
    "execution": {
     "iopub.execute_input": "2022-12-18T06:51:10.968699Z",
     "iopub.status.busy": "2022-12-18T06:51:10.968223Z",
     "iopub.status.idle": "2022-12-18T06:51:10.973567Z",
     "shell.execute_reply": "2022-12-18T06:51:10.972403Z"
    },
    "papermill": {
     "duration": 0.048808,
     "end_time": "2022-12-18T06:51:10.975808",
     "exception": false,
     "start_time": "2022-12-18T06:51:10.927000",
     "status": "completed"
    },
    "tags": []
   },
   "outputs": [],
   "source": [
    "#print(roc_auc_score(y_t2,mlp1.predict_proba(X_t2)[:,1]))"
   ]
  },
  {
   "cell_type": "markdown",
   "id": "c1b30c53",
   "metadata": {
    "papermill": {
     "duration": 0.038964,
     "end_time": "2022-12-18T06:51:11.052418",
     "exception": false,
     "start_time": "2022-12-18T06:51:11.013454",
     "status": "completed"
    },
    "tags": []
   },
   "source": [
    "12) VOTING CLASSIFIER"
   ]
  },
  {
   "cell_type": "code",
   "execution_count": 137,
   "id": "6e38988c",
   "metadata": {
    "execution": {
     "iopub.execute_input": "2022-12-18T06:51:11.130510Z",
     "iopub.status.busy": "2022-12-18T06:51:11.130013Z",
     "iopub.status.idle": "2022-12-18T06:51:11.137250Z",
     "shell.execute_reply": "2022-12-18T06:51:11.135694Z"
    },
    "papermill": {
     "duration": 0.049341,
     "end_time": "2022-12-18T06:51:11.139790",
     "exception": false,
     "start_time": "2022-12-18T06:51:11.090449",
     "status": "completed"
    },
    "tags": []
   },
   "outputs": [],
   "source": [
    "vc= VotingClassifier(estimators=[('xg',xg1),('bc',bc1),('rfc',rfc_1),('gb',gb1)],voting='soft')"
   ]
  },
  {
   "cell_type": "code",
   "execution_count": 138,
   "id": "20fbcb3b",
   "metadata": {
    "execution": {
     "iopub.execute_input": "2022-12-18T06:51:11.219518Z",
     "iopub.status.busy": "2022-12-18T06:51:11.218411Z",
     "iopub.status.idle": "2022-12-18T06:51:11.223294Z",
     "shell.execute_reply": "2022-12-18T06:51:11.222246Z"
    },
    "papermill": {
     "duration": 0.045464,
     "end_time": "2022-12-18T06:51:11.225604",
     "exception": false,
     "start_time": "2022-12-18T06:51:11.180140",
     "status": "completed"
    },
    "tags": []
   },
   "outputs": [],
   "source": [
    "#vc.fit(X_t1,y_t1)\n",
    "#y_vc=vc.predict(X_t2)\n",
    "#print(classification_report(y_t2,y_vc))"
   ]
  },
  {
   "cell_type": "code",
   "execution_count": 139,
   "id": "259a74da",
   "metadata": {
    "execution": {
     "iopub.execute_input": "2022-12-18T06:51:11.304946Z",
     "iopub.status.busy": "2022-12-18T06:51:11.304530Z",
     "iopub.status.idle": "2022-12-18T06:51:11.310005Z",
     "shell.execute_reply": "2022-12-18T06:51:11.308723Z"
    },
    "papermill": {
     "duration": 0.048685,
     "end_time": "2022-12-18T06:51:11.312506",
     "exception": false,
     "start_time": "2022-12-18T06:51:11.263821",
     "status": "completed"
    },
    "tags": []
   },
   "outputs": [],
   "source": [
    "#print(roc_auc_score(y_t2,vc.predict_proba(X_t2)[:,1]))"
   ]
  },
  {
   "cell_type": "code",
   "execution_count": 140,
   "id": "f36a8fb2",
   "metadata": {
    "execution": {
     "iopub.execute_input": "2022-12-18T06:51:11.389197Z",
     "iopub.status.busy": "2022-12-18T06:51:11.388707Z",
     "iopub.status.idle": "2022-12-18T06:53:13.692657Z",
     "shell.execute_reply": "2022-12-18T06:53:13.691388Z"
    },
    "papermill": {
     "duration": 122.382089,
     "end_time": "2022-12-18T06:53:13.731415",
     "exception": false,
     "start_time": "2022-12-18T06:51:11.349326",
     "status": "completed"
    },
    "tags": []
   },
   "outputs": [
    {
     "data": {
      "text/plain": [
       "VotingClassifier(estimators=[('xg',\n",
       "                              XGBClassifier(base_score=0.5, booster='gbtree',\n",
       "                                            callbacks=None, colsample_bylevel=1,\n",
       "                                            colsample_bynode=1,\n",
       "                                            colsample_bytree=0.5,\n",
       "                                            early_stopping_rounds=None,\n",
       "                                            enable_categorical=False,\n",
       "                                            eval_metric=None, gamma=0,\n",
       "                                            gpu_id=-1, grow_policy='depthwise',\n",
       "                                            importance_type=None,\n",
       "                                            interaction_constraints='',\n",
       "                                            learning_rate=0.1, max_bin=256,\n",
       "                                            max_c...\n",
       "                                            n_estimators=100, n_jobs=0,\n",
       "                                            num_parallel_tree=1,\n",
       "                                            predictor='auto', random_state=42,\n",
       "                                            reg_alpha=0.8, reg_lambda=1, ...)),\n",
       "                             ('bc',\n",
       "                              BaggingClassifier(n_estimators=800,\n",
       "                                                random_state=42)),\n",
       "                             ('rfc',\n",
       "                              RandomForestClassifier(class_weight='balanced',\n",
       "                                                     max_depth=14,\n",
       "                                                     n_estimators=860,\n",
       "                                                     random_state=42)),\n",
       "                             ('gb',\n",
       "                              GradientBoostingClassifier(max_depth=5,\n",
       "                                                         min_samples_leaf=35,\n",
       "                                                         random_state=42))],\n",
       "                 voting='soft')"
      ]
     },
     "execution_count": 140,
     "metadata": {},
     "output_type": "execute_result"
    }
   ],
   "source": [
    "vc.fit(X_train,y_train)"
   ]
  },
  {
   "cell_type": "code",
   "execution_count": 141,
   "id": "083f8ae0",
   "metadata": {
    "execution": {
     "iopub.execute_input": "2022-12-18T06:53:13.810037Z",
     "iopub.status.busy": "2022-12-18T06:53:13.809432Z",
     "iopub.status.idle": "2022-12-18T06:53:18.017572Z",
     "shell.execute_reply": "2022-12-18T06:53:18.016258Z"
    },
    "papermill": {
     "duration": 4.251018,
     "end_time": "2022-12-18T06:53:18.020843",
     "exception": false,
     "start_time": "2022-12-18T06:53:13.769825",
     "status": "completed"
    },
    "tags": []
   },
   "outputs": [],
   "source": [
    "prediction=vc.predict(X_test)"
   ]
  },
  {
   "cell_type": "code",
   "execution_count": 142,
   "id": "923feaf0",
   "metadata": {
    "execution": {
     "iopub.execute_input": "2022-12-18T06:53:18.099502Z",
     "iopub.status.busy": "2022-12-18T06:53:18.098732Z",
     "iopub.status.idle": "2022-12-18T06:53:18.116037Z",
     "shell.execute_reply": "2022-12-18T06:53:18.112887Z"
    },
    "papermill": {
     "duration": 0.060604,
     "end_time": "2022-12-18T06:53:18.119151",
     "exception": false,
     "start_time": "2022-12-18T06:53:18.058547",
     "status": "completed"
    },
    "tags": []
   },
   "outputs": [],
   "source": [
    "submission=pd.DataFrame(columns=['id','Offer Accepted'])\n",
    "submission['id']=[i for i in range(len(prediction))]\n",
    "submission['Offer Accepted']= prediction"
   ]
  },
  {
   "cell_type": "code",
   "execution_count": 143,
   "id": "5e9110a7",
   "metadata": {
    "execution": {
     "iopub.execute_input": "2022-12-18T06:53:18.222837Z",
     "iopub.status.busy": "2022-12-18T06:53:18.222074Z",
     "iopub.status.idle": "2022-12-18T06:53:18.232473Z",
     "shell.execute_reply": "2022-12-18T06:53:18.231624Z"
    },
    "papermill": {
     "duration": 0.067936,
     "end_time": "2022-12-18T06:53:18.234699",
     "exception": false,
     "start_time": "2022-12-18T06:53:18.166763",
     "status": "completed"
    },
    "tags": []
   },
   "outputs": [
    {
     "data": {
      "text/html": [
       "<div>\n",
       "<style scoped>\n",
       "    .dataframe tbody tr th:only-of-type {\n",
       "        vertical-align: middle;\n",
       "    }\n",
       "\n",
       "    .dataframe tbody tr th {\n",
       "        vertical-align: top;\n",
       "    }\n",
       "\n",
       "    .dataframe thead th {\n",
       "        text-align: right;\n",
       "    }\n",
       "</style>\n",
       "<table border=\"1\" class=\"dataframe\">\n",
       "  <thead>\n",
       "    <tr style=\"text-align: right;\">\n",
       "      <th></th>\n",
       "      <th>id</th>\n",
       "      <th>Offer Accepted</th>\n",
       "    </tr>\n",
       "  </thead>\n",
       "  <tbody>\n",
       "    <tr>\n",
       "      <th>0</th>\n",
       "      <td>0</td>\n",
       "      <td>Yes</td>\n",
       "    </tr>\n",
       "    <tr>\n",
       "      <th>1</th>\n",
       "      <td>1</td>\n",
       "      <td>Yes</td>\n",
       "    </tr>\n",
       "    <tr>\n",
       "      <th>2</th>\n",
       "      <td>2</td>\n",
       "      <td>No</td>\n",
       "    </tr>\n",
       "    <tr>\n",
       "      <th>3</th>\n",
       "      <td>3</td>\n",
       "      <td>No</td>\n",
       "    </tr>\n",
       "    <tr>\n",
       "      <th>4</th>\n",
       "      <td>4</td>\n",
       "      <td>Yes</td>\n",
       "    </tr>\n",
       "  </tbody>\n",
       "</table>\n",
       "</div>"
      ],
      "text/plain": [
       "   id Offer Accepted\n",
       "0   0            Yes\n",
       "1   1            Yes\n",
       "2   2             No\n",
       "3   3             No\n",
       "4   4            Yes"
      ]
     },
     "execution_count": 143,
     "metadata": {},
     "output_type": "execute_result"
    }
   ],
   "source": [
    "submission.head()"
   ]
  },
  {
   "cell_type": "code",
   "execution_count": 144,
   "id": "bf11c359",
   "metadata": {
    "execution": {
     "iopub.execute_input": "2022-12-18T06:53:18.313436Z",
     "iopub.status.busy": "2022-12-18T06:53:18.312992Z",
     "iopub.status.idle": "2022-12-18T06:53:18.327390Z",
     "shell.execute_reply": "2022-12-18T06:53:18.326146Z"
    },
    "papermill": {
     "duration": 0.057514,
     "end_time": "2022-12-18T06:53:18.330663",
     "exception": false,
     "start_time": "2022-12-18T06:53:18.273149",
     "status": "completed"
    },
    "tags": []
   },
   "outputs": [],
   "source": [
    "submission.to_csv('submission.csv', index=False)"
   ]
  }
 ],
 "metadata": {
  "kernelspec": {
   "display_name": "Python 3",
   "language": "python",
   "name": "python3"
  },
  "language_info": {
   "codemirror_mode": {
    "name": "ipython",
    "version": 3
   },
   "file_extension": ".py",
   "mimetype": "text/x-python",
   "name": "python",
   "nbconvert_exporter": "python",
   "pygments_lexer": "ipython3",
   "version": "3.7.12"
  },
  "papermill": {
   "default_parameters": {},
   "duration": 264.135295,
   "end_time": "2022-12-18T06:53:19.395829",
   "environment_variables": {},
   "exception": null,
   "input_path": "__notebook__.ipynb",
   "output_path": "__notebook__.ipynb",
   "parameters": {},
   "start_time": "2022-12-18T06:48:55.260534",
   "version": "2.3.4"
  }
 },
 "nbformat": 4,
 "nbformat_minor": 5
}
